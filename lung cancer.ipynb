{
 "cells": [
  {
   "cell_type": "code",
   "execution_count": 1,
   "id": "ba3e2a39",
   "metadata": {},
   "outputs": [],
   "source": [
    "import numpy as np\n",
    "import pandas as pd\n",
    "import os\n",
    "import matplotlib.pylab as plt\n",
    "import tensorflow as tf\n",
    "from tensorflow import keras\n",
    "from tensorflow.keras import layers\n",
    "from tensorflow.keras.models import Sequential\n",
    "import seaborn as sns\n",
    "\n",
    "from sklearn.model_selection import ShuffleSplit\n",
    "from sklearn.ensemble import RandomForestClassifier\n",
    "from sklearn.linear_model import LogisticRegression\n",
    "from sklearn.naive_bayes import GaussianNB\n",
    "from sklearn.linear_model import Lasso\n",
    "from sklearn.naive_bayes import MultinomialNB\n",
    "from sklearn.tree import DecisionTreeClassifier\n",
    "from sklearn.neighbors import KNeighborsClassifier\n",
    "from sklearn.metrics import classification_report\n",
    "from sklearn.linear_model import LinearRegression"
   ]
  },
  {
   "cell_type": "markdown",
   "id": "21d5eb2a",
   "metadata": {},
   "source": [
    "# Data preproccising"
   ]
  },
  {
   "cell_type": "code",
   "execution_count": 2,
   "id": "0e5462d0",
   "metadata": {},
   "outputs": [],
   "source": [
    "df=pd.read_csv('survey_lung_cancer.csv')"
   ]
  },
  {
   "cell_type": "code",
   "execution_count": 3,
   "id": "0a6440fa",
   "metadata": {
    "scrolled": true
   },
   "outputs": [
    {
     "data": {
      "text/html": [
       "<div>\n",
       "<style scoped>\n",
       "    .dataframe tbody tr th:only-of-type {\n",
       "        vertical-align: middle;\n",
       "    }\n",
       "\n",
       "    .dataframe tbody tr th {\n",
       "        vertical-align: top;\n",
       "    }\n",
       "\n",
       "    .dataframe thead th {\n",
       "        text-align: right;\n",
       "    }\n",
       "</style>\n",
       "<table border=\"1\" class=\"dataframe\">\n",
       "  <thead>\n",
       "    <tr style=\"text-align: right;\">\n",
       "      <th></th>\n",
       "      <th>GENDER</th>\n",
       "      <th>AGE</th>\n",
       "      <th>SMOKING</th>\n",
       "      <th>YELLOW_FINGERS</th>\n",
       "      <th>ANXIETY</th>\n",
       "      <th>PEER_PRESSURE</th>\n",
       "      <th>CHRONIC DISEASE</th>\n",
       "      <th>FATIGUE</th>\n",
       "      <th>ALLERGY</th>\n",
       "      <th>WHEEZING</th>\n",
       "      <th>ALCOHOL CONSUMING</th>\n",
       "      <th>COUGHING</th>\n",
       "      <th>SHORTNESS OF BREATH</th>\n",
       "      <th>SWALLOWING DIFFICULTY</th>\n",
       "      <th>CHEST PAIN</th>\n",
       "      <th>LUNG_CANCER</th>\n",
       "    </tr>\n",
       "  </thead>\n",
       "  <tbody>\n",
       "    <tr>\n",
       "      <th>0</th>\n",
       "      <td>M</td>\n",
       "      <td>69</td>\n",
       "      <td>1</td>\n",
       "      <td>2</td>\n",
       "      <td>2</td>\n",
       "      <td>1</td>\n",
       "      <td>1</td>\n",
       "      <td>2</td>\n",
       "      <td>1</td>\n",
       "      <td>2</td>\n",
       "      <td>2</td>\n",
       "      <td>2</td>\n",
       "      <td>2</td>\n",
       "      <td>2</td>\n",
       "      <td>2</td>\n",
       "      <td>YES</td>\n",
       "    </tr>\n",
       "    <tr>\n",
       "      <th>1</th>\n",
       "      <td>M</td>\n",
       "      <td>74</td>\n",
       "      <td>2</td>\n",
       "      <td>1</td>\n",
       "      <td>1</td>\n",
       "      <td>1</td>\n",
       "      <td>2</td>\n",
       "      <td>2</td>\n",
       "      <td>2</td>\n",
       "      <td>1</td>\n",
       "      <td>1</td>\n",
       "      <td>1</td>\n",
       "      <td>2</td>\n",
       "      <td>2</td>\n",
       "      <td>2</td>\n",
       "      <td>YES</td>\n",
       "    </tr>\n",
       "    <tr>\n",
       "      <th>2</th>\n",
       "      <td>F</td>\n",
       "      <td>59</td>\n",
       "      <td>1</td>\n",
       "      <td>1</td>\n",
       "      <td>1</td>\n",
       "      <td>2</td>\n",
       "      <td>1</td>\n",
       "      <td>2</td>\n",
       "      <td>1</td>\n",
       "      <td>2</td>\n",
       "      <td>1</td>\n",
       "      <td>2</td>\n",
       "      <td>2</td>\n",
       "      <td>1</td>\n",
       "      <td>2</td>\n",
       "      <td>NO</td>\n",
       "    </tr>\n",
       "    <tr>\n",
       "      <th>3</th>\n",
       "      <td>M</td>\n",
       "      <td>63</td>\n",
       "      <td>2</td>\n",
       "      <td>2</td>\n",
       "      <td>2</td>\n",
       "      <td>1</td>\n",
       "      <td>1</td>\n",
       "      <td>1</td>\n",
       "      <td>1</td>\n",
       "      <td>1</td>\n",
       "      <td>2</td>\n",
       "      <td>1</td>\n",
       "      <td>1</td>\n",
       "      <td>2</td>\n",
       "      <td>2</td>\n",
       "      <td>NO</td>\n",
       "    </tr>\n",
       "    <tr>\n",
       "      <th>4</th>\n",
       "      <td>F</td>\n",
       "      <td>63</td>\n",
       "      <td>1</td>\n",
       "      <td>2</td>\n",
       "      <td>1</td>\n",
       "      <td>1</td>\n",
       "      <td>1</td>\n",
       "      <td>1</td>\n",
       "      <td>1</td>\n",
       "      <td>2</td>\n",
       "      <td>1</td>\n",
       "      <td>2</td>\n",
       "      <td>2</td>\n",
       "      <td>1</td>\n",
       "      <td>1</td>\n",
       "      <td>NO</td>\n",
       "    </tr>\n",
       "  </tbody>\n",
       "</table>\n",
       "</div>"
      ],
      "text/plain": [
       "  GENDER  AGE  SMOKING  YELLOW_FINGERS  ANXIETY  PEER_PRESSURE  \\\n",
       "0      M   69        1               2        2              1   \n",
       "1      M   74        2               1        1              1   \n",
       "2      F   59        1               1        1              2   \n",
       "3      M   63        2               2        2              1   \n",
       "4      F   63        1               2        1              1   \n",
       "\n",
       "   CHRONIC DISEASE  FATIGUE   ALLERGY   WHEEZING  ALCOHOL CONSUMING  COUGHING  \\\n",
       "0                1         2         1         2                  2         2   \n",
       "1                2         2         2         1                  1         1   \n",
       "2                1         2         1         2                  1         2   \n",
       "3                1         1         1         1                  2         1   \n",
       "4                1         1         1         2                  1         2   \n",
       "\n",
       "   SHORTNESS OF BREATH  SWALLOWING DIFFICULTY  CHEST PAIN LUNG_CANCER  \n",
       "0                    2                      2           2         YES  \n",
       "1                    2                      2           2         YES  \n",
       "2                    2                      1           2          NO  \n",
       "3                    1                      2           2          NO  \n",
       "4                    2                      1           1          NO  "
      ]
     },
     "execution_count": 3,
     "metadata": {},
     "output_type": "execute_result"
    }
   ],
   "source": [
    "df.head(5)"
   ]
  },
  {
   "cell_type": "code",
   "execution_count": 4,
   "id": "2d083ed0",
   "metadata": {},
   "outputs": [],
   "source": [
    "#df[\"Fatigue\"]=df[\"FATIGUE\"]"
   ]
  },
  {
   "cell_type": "code",
   "execution_count": 5,
   "id": "401a9034",
   "metadata": {},
   "outputs": [
    {
     "data": {
      "text/plain": [
       "(309, 16)"
      ]
     },
     "execution_count": 5,
     "metadata": {},
     "output_type": "execute_result"
    }
   ],
   "source": [
    "df.shape\n"
   ]
  },
  {
   "cell_type": "code",
   "execution_count": 6,
   "id": "b25cc126",
   "metadata": {},
   "outputs": [
    {
     "name": "stdout",
     "output_type": "stream",
     "text": [
      "<class 'pandas.core.frame.DataFrame'>\n",
      "RangeIndex: 309 entries, 0 to 308\n",
      "Data columns (total 16 columns):\n",
      " #   Column                 Non-Null Count  Dtype \n",
      "---  ------                 --------------  ----- \n",
      " 0   GENDER                 309 non-null    object\n",
      " 1   AGE                    309 non-null    int64 \n",
      " 2   SMOKING                309 non-null    int64 \n",
      " 3   YELLOW_FINGERS         309 non-null    int64 \n",
      " 4   ANXIETY                309 non-null    int64 \n",
      " 5   PEER_PRESSURE          309 non-null    int64 \n",
      " 6   CHRONIC DISEASE        309 non-null    int64 \n",
      " 7   FATIGUE                309 non-null    int64 \n",
      " 8   ALLERGY                309 non-null    int64 \n",
      " 9   WHEEZING               309 non-null    int64 \n",
      " 10  ALCOHOL CONSUMING      309 non-null    int64 \n",
      " 11  COUGHING               309 non-null    int64 \n",
      " 12  SHORTNESS OF BREATH    309 non-null    int64 \n",
      " 13  SWALLOWING DIFFICULTY  309 non-null    int64 \n",
      " 14  CHEST PAIN             309 non-null    int64 \n",
      " 15  LUNG_CANCER            309 non-null    object\n",
      "dtypes: int64(14), object(2)\n",
      "memory usage: 38.8+ KB\n"
     ]
    }
   ],
   "source": [
    "df.info()"
   ]
  },
  {
   "cell_type": "code",
   "execution_count": 7,
   "id": "31ff024e",
   "metadata": {},
   "outputs": [
    {
     "name": "stdout",
     "output_type": "stream",
     "text": [
      "GENDER--->2\n",
      "AGE--->39\n",
      "SMOKING--->2\n",
      "YELLOW_FINGERS--->2\n",
      "ANXIETY--->2\n",
      "PEER_PRESSURE--->2\n",
      "CHRONIC DISEASE--->2\n",
      "FATIGUE --->2\n",
      "ALLERGY --->2\n",
      "WHEEZING--->2\n",
      "ALCOHOL CONSUMING--->2\n",
      "COUGHING--->2\n",
      "SHORTNESS OF BREATH--->2\n",
      "SWALLOWING DIFFICULTY--->2\n",
      "CHEST PAIN--->2\n",
      "LUNG_CANCER--->2\n"
     ]
    }
   ],
   "source": [
    "features=df.columns\n",
    "for feature in features:\n",
    "     print(f'{feature}--->{df[feature].nunique()}')"
   ]
  },
  {
   "cell_type": "code",
   "execution_count": 8,
   "id": "4f7ca073",
   "metadata": {},
   "outputs": [
    {
     "data": {
      "text/html": [
       "<style type=\"text/css\">\n",
       "#T_1ab33_row0_col0, #T_1ab33_row1_col0, #T_1ab33_row1_col3, #T_1ab33_row1_col4, #T_1ab33_row1_col6, #T_1ab33_row1_col7, #T_1ab33_row2_col0, #T_1ab33_row2_col3, #T_1ab33_row2_col4, #T_1ab33_row2_col6, #T_1ab33_row2_col7, #T_1ab33_row3_col0, #T_1ab33_row3_col3, #T_1ab33_row3_col4, #T_1ab33_row3_col6, #T_1ab33_row3_col7, #T_1ab33_row4_col0, #T_1ab33_row4_col3, #T_1ab33_row4_col4, #T_1ab33_row4_col6, #T_1ab33_row4_col7, #T_1ab33_row5_col0, #T_1ab33_row5_col3, #T_1ab33_row5_col4, #T_1ab33_row5_col6, #T_1ab33_row5_col7, #T_1ab33_row6_col0, #T_1ab33_row6_col3, #T_1ab33_row6_col4, #T_1ab33_row6_col6, #T_1ab33_row6_col7, #T_1ab33_row7_col0, #T_1ab33_row7_col3, #T_1ab33_row7_col4, #T_1ab33_row7_col6, #T_1ab33_row7_col7, #T_1ab33_row8_col0, #T_1ab33_row8_col3, #T_1ab33_row8_col4, #T_1ab33_row8_col6, #T_1ab33_row8_col7, #T_1ab33_row9_col0, #T_1ab33_row9_col3, #T_1ab33_row9_col4, #T_1ab33_row9_col6, #T_1ab33_row9_col7, #T_1ab33_row10_col0, #T_1ab33_row10_col3, #T_1ab33_row10_col4, #T_1ab33_row10_col6, #T_1ab33_row10_col7, #T_1ab33_row11_col0, #T_1ab33_row11_col3, #T_1ab33_row11_col4, #T_1ab33_row11_col6, #T_1ab33_row11_col7, #T_1ab33_row12_col0, #T_1ab33_row12_col3, #T_1ab33_row12_col4, #T_1ab33_row12_col5, #T_1ab33_row12_col6, #T_1ab33_row12_col7, #T_1ab33_row13_col0, #T_1ab33_row13_col3, #T_1ab33_row13_col4, #T_1ab33_row13_col5, #T_1ab33_row13_col6, #T_1ab33_row13_col7 {\n",
       "  background-color: #f7fcfd;\n",
       "  color: #000000;\n",
       "}\n",
       "#T_1ab33_row0_col1 {\n",
       "  background-color: #00441b;\n",
       "  color: #f1f1f1;\n",
       "  width: 10em;\n",
       "  background: linear-gradient(90deg, blue 100.0%, transparent 100.0%);\n",
       "}\n",
       "#T_1ab33_row0_col2 {\n",
       "  background-color: #00441b;\n",
       "  color: #f1f1f1;\n",
       "  width: 10em;\n",
       "  background: linear-gradient(90deg, red 100.0%, transparent 100.0%);\n",
       "}\n",
       "#T_1ab33_row0_col3, #T_1ab33_row0_col4, #T_1ab33_row0_col5, #T_1ab33_row0_col6, #T_1ab33_row0_col7 {\n",
       "  background-color: #00441b;\n",
       "  color: #f1f1f1;\n",
       "}\n",
       "#T_1ab33_row1_col1 {\n",
       "  background-color: #f7fcfd;\n",
       "  color: #000000;\n",
       "  width: 10em;\n",
       "  background: linear-gradient(90deg, blue 2.7%, transparent 2.7%);\n",
       "}\n",
       "#T_1ab33_row1_col2 {\n",
       "  background-color: #f7fcfd;\n",
       "  color: #000000;\n",
       "  width: 10em;\n",
       "  background: linear-gradient(90deg, red 5.7%, transparent 5.7%);\n",
       "}\n",
       "#T_1ab33_row1_col5, #T_1ab33_row2_col5, #T_1ab33_row3_col5, #T_1ab33_row4_col5, #T_1ab33_row5_col5, #T_1ab33_row6_col5, #T_1ab33_row7_col5, #T_1ab33_row8_col5, #T_1ab33_row9_col5, #T_1ab33_row10_col5, #T_1ab33_row11_col5 {\n",
       "  background-color: #f5fbfc;\n",
       "  color: #000000;\n",
       "}\n",
       "#T_1ab33_row2_col1 {\n",
       "  background-color: #f7fcfd;\n",
       "  color: #000000;\n",
       "  width: 10em;\n",
       "  background: linear-gradient(90deg, blue 2.6%, transparent 2.6%);\n",
       "}\n",
       "#T_1ab33_row2_col2 {\n",
       "  background-color: #f7fcfd;\n",
       "  color: #000000;\n",
       "  width: 10em;\n",
       "  background: linear-gradient(90deg, red 5.9%, transparent 5.9%);\n",
       "}\n",
       "#T_1ab33_row3_col1, #T_1ab33_row4_col1, #T_1ab33_row5_col1, #T_1ab33_row6_col1, #T_1ab33_row7_col1, #T_1ab33_row8_col1, #T_1ab33_row9_col1 {\n",
       "  background-color: #f7fcfd;\n",
       "  color: #000000;\n",
       "  width: 10em;\n",
       "  background: linear-gradient(90deg, blue 2.5%, transparent 2.5%);\n",
       "}\n",
       "#T_1ab33_row3_col2, #T_1ab33_row4_col2 {\n",
       "  background-color: #f7fcfd;\n",
       "  color: #000000;\n",
       "  width: 10em;\n",
       "  background: linear-gradient(90deg, red 6.0%, transparent 6.0%);\n",
       "}\n",
       "#T_1ab33_row5_col2, #T_1ab33_row6_col2, #T_1ab33_row7_col2, #T_1ab33_row8_col2, #T_1ab33_row9_col2, #T_1ab33_row13_col2 {\n",
       "  background-color: #f7fcfd;\n",
       "  color: #000000;\n",
       "  width: 10em;\n",
       "  background: linear-gradient(90deg, red 6.1%, transparent 6.1%);\n",
       "}\n",
       "#T_1ab33_row10_col1, #T_1ab33_row11_col1, #T_1ab33_row12_col1 {\n",
       "  background-color: #f7fcfd;\n",
       "  color: #000000;\n",
       "  width: 10em;\n",
       "  background: linear-gradient(90deg, blue 2.4%, transparent 2.4%);\n",
       "}\n",
       "#T_1ab33_row10_col2, #T_1ab33_row11_col2, #T_1ab33_row12_col2 {\n",
       "  background-color: #f6fcfd;\n",
       "  color: #000000;\n",
       "  width: 10em;\n",
       "  background: linear-gradient(90deg, red 6.1%, transparent 6.1%);\n",
       "}\n",
       "#T_1ab33_row13_col1 {\n",
       "  background-color: #f7fcfd;\n",
       "  color: #000000;\n",
       "  width: 10em;\n",
       "  background: linear-gradient(90deg, blue 2.3%, transparent 2.3%);\n",
       "}\n",
       "</style>\n",
       "<table id=\"T_1ab33\">\n",
       "  <thead>\n",
       "    <tr>\n",
       "      <th class=\"blank level0\" >&nbsp;</th>\n",
       "      <th id=\"T_1ab33_level0_col0\" class=\"col_heading level0 col0\" >count</th>\n",
       "      <th id=\"T_1ab33_level0_col1\" class=\"col_heading level0 col1\" >mean</th>\n",
       "      <th id=\"T_1ab33_level0_col2\" class=\"col_heading level0 col2\" >std</th>\n",
       "      <th id=\"T_1ab33_level0_col3\" class=\"col_heading level0 col3\" >min</th>\n",
       "      <th id=\"T_1ab33_level0_col4\" class=\"col_heading level0 col4\" >25%</th>\n",
       "      <th id=\"T_1ab33_level0_col5\" class=\"col_heading level0 col5\" >50%</th>\n",
       "      <th id=\"T_1ab33_level0_col6\" class=\"col_heading level0 col6\" >75%</th>\n",
       "      <th id=\"T_1ab33_level0_col7\" class=\"col_heading level0 col7\" >max</th>\n",
       "    </tr>\n",
       "  </thead>\n",
       "  <tbody>\n",
       "    <tr>\n",
       "      <th id=\"T_1ab33_level0_row0\" class=\"row_heading level0 row0\" >AGE</th>\n",
       "      <td id=\"T_1ab33_row0_col0\" class=\"data row0 col0\" >309.000000</td>\n",
       "      <td id=\"T_1ab33_row0_col1\" class=\"data row0 col1\" >62.673139</td>\n",
       "      <td id=\"T_1ab33_row0_col2\" class=\"data row0 col2\" >8.210301</td>\n",
       "      <td id=\"T_1ab33_row0_col3\" class=\"data row0 col3\" >21.000000</td>\n",
       "      <td id=\"T_1ab33_row0_col4\" class=\"data row0 col4\" >57.000000</td>\n",
       "      <td id=\"T_1ab33_row0_col5\" class=\"data row0 col5\" >62.000000</td>\n",
       "      <td id=\"T_1ab33_row0_col6\" class=\"data row0 col6\" >69.000000</td>\n",
       "      <td id=\"T_1ab33_row0_col7\" class=\"data row0 col7\" >87.000000</td>\n",
       "    </tr>\n",
       "    <tr>\n",
       "      <th id=\"T_1ab33_level0_row1\" class=\"row_heading level0 row1\" >FATIGUE </th>\n",
       "      <td id=\"T_1ab33_row1_col0\" class=\"data row1 col0\" >309.000000</td>\n",
       "      <td id=\"T_1ab33_row1_col1\" class=\"data row1 col1\" >1.673139</td>\n",
       "      <td id=\"T_1ab33_row1_col2\" class=\"data row1 col2\" >0.469827</td>\n",
       "      <td id=\"T_1ab33_row1_col3\" class=\"data row1 col3\" >1.000000</td>\n",
       "      <td id=\"T_1ab33_row1_col4\" class=\"data row1 col4\" >1.000000</td>\n",
       "      <td id=\"T_1ab33_row1_col5\" class=\"data row1 col5\" >2.000000</td>\n",
       "      <td id=\"T_1ab33_row1_col6\" class=\"data row1 col6\" >2.000000</td>\n",
       "      <td id=\"T_1ab33_row1_col7\" class=\"data row1 col7\" >2.000000</td>\n",
       "    </tr>\n",
       "    <tr>\n",
       "      <th id=\"T_1ab33_level0_row2\" class=\"row_heading level0 row2\" >SHORTNESS OF BREATH</th>\n",
       "      <td id=\"T_1ab33_row2_col0\" class=\"data row2 col0\" >309.000000</td>\n",
       "      <td id=\"T_1ab33_row2_col1\" class=\"data row2 col1\" >1.640777</td>\n",
       "      <td id=\"T_1ab33_row2_col2\" class=\"data row2 col2\" >0.480551</td>\n",
       "      <td id=\"T_1ab33_row2_col3\" class=\"data row2 col3\" >1.000000</td>\n",
       "      <td id=\"T_1ab33_row2_col4\" class=\"data row2 col4\" >1.000000</td>\n",
       "      <td id=\"T_1ab33_row2_col5\" class=\"data row2 col5\" >2.000000</td>\n",
       "      <td id=\"T_1ab33_row2_col6\" class=\"data row2 col6\" >2.000000</td>\n",
       "      <td id=\"T_1ab33_row2_col7\" class=\"data row2 col7\" >2.000000</td>\n",
       "    </tr>\n",
       "    <tr>\n",
       "      <th id=\"T_1ab33_level0_row3\" class=\"row_heading level0 row3\" >COUGHING</th>\n",
       "      <td id=\"T_1ab33_row3_col0\" class=\"data row3 col0\" >309.000000</td>\n",
       "      <td id=\"T_1ab33_row3_col1\" class=\"data row3 col1\" >1.579288</td>\n",
       "      <td id=\"T_1ab33_row3_col2\" class=\"data row3 col2\" >0.494474</td>\n",
       "      <td id=\"T_1ab33_row3_col3\" class=\"data row3 col3\" >1.000000</td>\n",
       "      <td id=\"T_1ab33_row3_col4\" class=\"data row3 col4\" >1.000000</td>\n",
       "      <td id=\"T_1ab33_row3_col5\" class=\"data row3 col5\" >2.000000</td>\n",
       "      <td id=\"T_1ab33_row3_col6\" class=\"data row3 col6\" >2.000000</td>\n",
       "      <td id=\"T_1ab33_row3_col7\" class=\"data row3 col7\" >2.000000</td>\n",
       "    </tr>\n",
       "    <tr>\n",
       "      <th id=\"T_1ab33_level0_row4\" class=\"row_heading level0 row4\" >YELLOW_FINGERS</th>\n",
       "      <td id=\"T_1ab33_row4_col0\" class=\"data row4 col0\" >309.000000</td>\n",
       "      <td id=\"T_1ab33_row4_col1\" class=\"data row4 col1\" >1.569579</td>\n",
       "      <td id=\"T_1ab33_row4_col2\" class=\"data row4 col2\" >0.495938</td>\n",
       "      <td id=\"T_1ab33_row4_col3\" class=\"data row4 col3\" >1.000000</td>\n",
       "      <td id=\"T_1ab33_row4_col4\" class=\"data row4 col4\" >1.000000</td>\n",
       "      <td id=\"T_1ab33_row4_col5\" class=\"data row4 col5\" >2.000000</td>\n",
       "      <td id=\"T_1ab33_row4_col6\" class=\"data row4 col6\" >2.000000</td>\n",
       "      <td id=\"T_1ab33_row4_col7\" class=\"data row4 col7\" >2.000000</td>\n",
       "    </tr>\n",
       "    <tr>\n",
       "      <th id=\"T_1ab33_level0_row5\" class=\"row_heading level0 row5\" >SMOKING</th>\n",
       "      <td id=\"T_1ab33_row5_col0\" class=\"data row5 col0\" >309.000000</td>\n",
       "      <td id=\"T_1ab33_row5_col1\" class=\"data row5 col1\" >1.563107</td>\n",
       "      <td id=\"T_1ab33_row5_col2\" class=\"data row5 col2\" >0.496806</td>\n",
       "      <td id=\"T_1ab33_row5_col3\" class=\"data row5 col3\" >1.000000</td>\n",
       "      <td id=\"T_1ab33_row5_col4\" class=\"data row5 col4\" >1.000000</td>\n",
       "      <td id=\"T_1ab33_row5_col5\" class=\"data row5 col5\" >2.000000</td>\n",
       "      <td id=\"T_1ab33_row5_col6\" class=\"data row5 col6\" >2.000000</td>\n",
       "      <td id=\"T_1ab33_row5_col7\" class=\"data row5 col7\" >2.000000</td>\n",
       "    </tr>\n",
       "    <tr>\n",
       "      <th id=\"T_1ab33_level0_row6\" class=\"row_heading level0 row6\" >ALLERGY </th>\n",
       "      <td id=\"T_1ab33_row6_col0\" class=\"data row6 col0\" >309.000000</td>\n",
       "      <td id=\"T_1ab33_row6_col1\" class=\"data row6 col1\" >1.556634</td>\n",
       "      <td id=\"T_1ab33_row6_col2\" class=\"data row6 col2\" >0.497588</td>\n",
       "      <td id=\"T_1ab33_row6_col3\" class=\"data row6 col3\" >1.000000</td>\n",
       "      <td id=\"T_1ab33_row6_col4\" class=\"data row6 col4\" >1.000000</td>\n",
       "      <td id=\"T_1ab33_row6_col5\" class=\"data row6 col5\" >2.000000</td>\n",
       "      <td id=\"T_1ab33_row6_col6\" class=\"data row6 col6\" >2.000000</td>\n",
       "      <td id=\"T_1ab33_row6_col7\" class=\"data row6 col7\" >2.000000</td>\n",
       "    </tr>\n",
       "    <tr>\n",
       "      <th id=\"T_1ab33_level0_row7\" class=\"row_heading level0 row7\" >WHEEZING</th>\n",
       "      <td id=\"T_1ab33_row7_col0\" class=\"data row7 col0\" >309.000000</td>\n",
       "      <td id=\"T_1ab33_row7_col1\" class=\"data row7 col1\" >1.556634</td>\n",
       "      <td id=\"T_1ab33_row7_col2\" class=\"data row7 col2\" >0.497588</td>\n",
       "      <td id=\"T_1ab33_row7_col3\" class=\"data row7 col3\" >1.000000</td>\n",
       "      <td id=\"T_1ab33_row7_col4\" class=\"data row7 col4\" >1.000000</td>\n",
       "      <td id=\"T_1ab33_row7_col5\" class=\"data row7 col5\" >2.000000</td>\n",
       "      <td id=\"T_1ab33_row7_col6\" class=\"data row7 col6\" >2.000000</td>\n",
       "      <td id=\"T_1ab33_row7_col7\" class=\"data row7 col7\" >2.000000</td>\n",
       "    </tr>\n",
       "    <tr>\n",
       "      <th id=\"T_1ab33_level0_row8\" class=\"row_heading level0 row8\" >ALCOHOL CONSUMING</th>\n",
       "      <td id=\"T_1ab33_row8_col0\" class=\"data row8 col0\" >309.000000</td>\n",
       "      <td id=\"T_1ab33_row8_col1\" class=\"data row8 col1\" >1.556634</td>\n",
       "      <td id=\"T_1ab33_row8_col2\" class=\"data row8 col2\" >0.497588</td>\n",
       "      <td id=\"T_1ab33_row8_col3\" class=\"data row8 col3\" >1.000000</td>\n",
       "      <td id=\"T_1ab33_row8_col4\" class=\"data row8 col4\" >1.000000</td>\n",
       "      <td id=\"T_1ab33_row8_col5\" class=\"data row8 col5\" >2.000000</td>\n",
       "      <td id=\"T_1ab33_row8_col6\" class=\"data row8 col6\" >2.000000</td>\n",
       "      <td id=\"T_1ab33_row8_col7\" class=\"data row8 col7\" >2.000000</td>\n",
       "    </tr>\n",
       "    <tr>\n",
       "      <th id=\"T_1ab33_level0_row9\" class=\"row_heading level0 row9\" >CHEST PAIN</th>\n",
       "      <td id=\"T_1ab33_row9_col0\" class=\"data row9 col0\" >309.000000</td>\n",
       "      <td id=\"T_1ab33_row9_col1\" class=\"data row9 col1\" >1.556634</td>\n",
       "      <td id=\"T_1ab33_row9_col2\" class=\"data row9 col2\" >0.497588</td>\n",
       "      <td id=\"T_1ab33_row9_col3\" class=\"data row9 col3\" >1.000000</td>\n",
       "      <td id=\"T_1ab33_row9_col4\" class=\"data row9 col4\" >1.000000</td>\n",
       "      <td id=\"T_1ab33_row9_col5\" class=\"data row9 col5\" >2.000000</td>\n",
       "      <td id=\"T_1ab33_row9_col6\" class=\"data row9 col6\" >2.000000</td>\n",
       "      <td id=\"T_1ab33_row9_col7\" class=\"data row9 col7\" >2.000000</td>\n",
       "    </tr>\n",
       "    <tr>\n",
       "      <th id=\"T_1ab33_level0_row10\" class=\"row_heading level0 row10\" >CHRONIC DISEASE</th>\n",
       "      <td id=\"T_1ab33_row10_col0\" class=\"data row10 col0\" >309.000000</td>\n",
       "      <td id=\"T_1ab33_row10_col1\" class=\"data row10 col1\" >1.504854</td>\n",
       "      <td id=\"T_1ab33_row10_col2\" class=\"data row10 col2\" >0.500787</td>\n",
       "      <td id=\"T_1ab33_row10_col3\" class=\"data row10 col3\" >1.000000</td>\n",
       "      <td id=\"T_1ab33_row10_col4\" class=\"data row10 col4\" >1.000000</td>\n",
       "      <td id=\"T_1ab33_row10_col5\" class=\"data row10 col5\" >2.000000</td>\n",
       "      <td id=\"T_1ab33_row10_col6\" class=\"data row10 col6\" >2.000000</td>\n",
       "      <td id=\"T_1ab33_row10_col7\" class=\"data row10 col7\" >2.000000</td>\n",
       "    </tr>\n",
       "    <tr>\n",
       "      <th id=\"T_1ab33_level0_row11\" class=\"row_heading level0 row11\" >PEER_PRESSURE</th>\n",
       "      <td id=\"T_1ab33_row11_col0\" class=\"data row11 col0\" >309.000000</td>\n",
       "      <td id=\"T_1ab33_row11_col1\" class=\"data row11 col1\" >1.501618</td>\n",
       "      <td id=\"T_1ab33_row11_col2\" class=\"data row11 col2\" >0.500808</td>\n",
       "      <td id=\"T_1ab33_row11_col3\" class=\"data row11 col3\" >1.000000</td>\n",
       "      <td id=\"T_1ab33_row11_col4\" class=\"data row11 col4\" >1.000000</td>\n",
       "      <td id=\"T_1ab33_row11_col5\" class=\"data row11 col5\" >2.000000</td>\n",
       "      <td id=\"T_1ab33_row11_col6\" class=\"data row11 col6\" >2.000000</td>\n",
       "      <td id=\"T_1ab33_row11_col7\" class=\"data row11 col7\" >2.000000</td>\n",
       "    </tr>\n",
       "    <tr>\n",
       "      <th id=\"T_1ab33_level0_row12\" class=\"row_heading level0 row12\" >ANXIETY</th>\n",
       "      <td id=\"T_1ab33_row12_col0\" class=\"data row12 col0\" >309.000000</td>\n",
       "      <td id=\"T_1ab33_row12_col1\" class=\"data row12 col1\" >1.498382</td>\n",
       "      <td id=\"T_1ab33_row12_col2\" class=\"data row12 col2\" >0.500808</td>\n",
       "      <td id=\"T_1ab33_row12_col3\" class=\"data row12 col3\" >1.000000</td>\n",
       "      <td id=\"T_1ab33_row12_col4\" class=\"data row12 col4\" >1.000000</td>\n",
       "      <td id=\"T_1ab33_row12_col5\" class=\"data row12 col5\" >1.000000</td>\n",
       "      <td id=\"T_1ab33_row12_col6\" class=\"data row12 col6\" >2.000000</td>\n",
       "      <td id=\"T_1ab33_row12_col7\" class=\"data row12 col7\" >2.000000</td>\n",
       "    </tr>\n",
       "    <tr>\n",
       "      <th id=\"T_1ab33_level0_row13\" class=\"row_heading level0 row13\" >SWALLOWING DIFFICULTY</th>\n",
       "      <td id=\"T_1ab33_row13_col0\" class=\"data row13 col0\" >309.000000</td>\n",
       "      <td id=\"T_1ab33_row13_col1\" class=\"data row13 col1\" >1.469256</td>\n",
       "      <td id=\"T_1ab33_row13_col2\" class=\"data row13 col2\" >0.499863</td>\n",
       "      <td id=\"T_1ab33_row13_col3\" class=\"data row13 col3\" >1.000000</td>\n",
       "      <td id=\"T_1ab33_row13_col4\" class=\"data row13 col4\" >1.000000</td>\n",
       "      <td id=\"T_1ab33_row13_col5\" class=\"data row13 col5\" >1.000000</td>\n",
       "      <td id=\"T_1ab33_row13_col6\" class=\"data row13 col6\" >2.000000</td>\n",
       "      <td id=\"T_1ab33_row13_col7\" class=\"data row13 col7\" >2.000000</td>\n",
       "    </tr>\n",
       "  </tbody>\n",
       "</table>\n"
      ],
      "text/plain": [
       "<pandas.io.formats.style.Styler at 0x243542d67f0>"
      ]
     },
     "execution_count": 8,
     "metadata": {},
     "output_type": "execute_result"
    }
   ],
   "source": [
    "df.describe().T.sort_values(ascending =0,by='mean').style.background_gradient(cmap='BuGn').bar(subset=['std'], color='red').bar(subset=['mean'], color='blue')"
   ]
  },
  {
   "cell_type": "code",
   "execution_count": 9,
   "id": "582e9632",
   "metadata": {},
   "outputs": [
    {
     "data": {
      "text/plain": [
       "<seaborn.axisgrid.PairGrid at 0x2436318c8b0>"
      ]
     },
     "execution_count": 9,
     "metadata": {},
     "output_type": "execute_result"
    },
    {
     "data": {
      "image/png": "[encoded data removed]",
      "text/plain": [
       "<Figure size 2520x2520 with 210 Axes>"
      ]
     },
     "metadata": {
      "needs_background": "light"
     },
     "output_type": "display_data"
    }
   ],
   "source": [
    "\n",
    "sns.pairplot(df)"
   ]
  },
  {
   "cell_type": "code",
   "execution_count": 10,
   "id": "05458472",
   "metadata": {},
   "outputs": [
    {
     "data": {
      "text/html": [
       "<style type=\"text/css\">\n",
       "#T_01f67_row0_col0, #T_01f67_row1_col1, #T_01f67_row2_col2, #T_01f67_row3_col3, #T_01f67_row4_col4, #T_01f67_row5_col5, #T_01f67_row6_col6, #T_01f67_row7_col7, #T_01f67_row8_col8, #T_01f67_row9_col9, #T_01f67_row10_col10, #T_01f67_row11_col11, #T_01f67_row12_col12, #T_01f67_row13_col13 {\n",
       "  background-color: #fde725;\n",
       "  color: #000000;\n",
       "}\n",
       "#T_01f67_row0_col1, #T_01f67_row7_col3, #T_01f67_row9_col3, #T_01f67_row9_col4, #T_01f67_row12_col6, #T_01f67_row12_col11 {\n",
       "  background-color: #471365;\n",
       "  color: #f1f1f1;\n",
       "}\n",
       "#T_01f67_row0_col2, #T_01f67_row0_col3, #T_01f67_row13_col1 {\n",
       "  background-color: #3e4c8a;\n",
       "  color: #f1f1f1;\n",
       "}\n",
       "#T_01f67_row0_col4, #T_01f67_row8_col12, #T_01f67_row13_col12 {\n",
       "  background-color: #414287;\n",
       "  color: #f1f1f1;\n",
       "}\n",
       "#T_01f67_row0_col5, #T_01f67_row0_col12 {\n",
       "  background-color: #46307e;\n",
       "  color: #f1f1f1;\n",
       "}\n",
       "#T_01f67_row0_col6 {\n",
       "  background-color: #443a83;\n",
       "  color: #f1f1f1;\n",
       "}\n",
       "#T_01f67_row0_col7, #T_01f67_row0_col11, #T_01f67_row1_col12 {\n",
       "  background-color: #443983;\n",
       "  color: #f1f1f1;\n",
       "}\n",
       "#T_01f67_row0_col8, #T_01f67_row1_col13 {\n",
       "  background-color: #404688;\n",
       "  color: #f1f1f1;\n",
       "}\n",
       "#T_01f67_row0_col9 {\n",
       "  background-color: #38588c;\n",
       "  color: #f1f1f1;\n",
       "}\n",
       "#T_01f67_row0_col10 {\n",
       "  background-color: #32658e;\n",
       "  color: #f1f1f1;\n",
       "}\n",
       "#T_01f67_row0_col13, #T_01f67_row2_col0, #T_01f67_row7_col12, #T_01f67_row11_col9 {\n",
       "  background-color: #481f70;\n",
       "  color: #f1f1f1;\n",
       "}\n",
       "#T_01f67_row1_col0, #T_01f67_row2_col9, #T_01f67_row3_col6, #T_01f67_row3_col7, #T_01f67_row3_col8, #T_01f67_row3_col10, #T_01f67_row3_col13, #T_01f67_row4_col11, #T_01f67_row5_col1, #T_01f67_row9_col2, #T_01f67_row9_col6, #T_01f67_row10_col3, #T_01f67_row10_col5, #T_01f67_row10_col12, #T_01f67_row11_col4, #T_01f67_row11_col12 {\n",
       "  background-color: #440154;\n",
       "  color: #f1f1f1;\n",
       "}\n",
       "#T_01f67_row1_col2, #T_01f67_row8_col11, #T_01f67_row10_col2, #T_01f67_row12_col5 {\n",
       "  background-color: #3f4788;\n",
       "  color: #f1f1f1;\n",
       "}\n",
       "#T_01f67_row1_col3 {\n",
       "  background-color: #33638d;\n",
       "  color: #f1f1f1;\n",
       "}\n",
       "#T_01f67_row1_col4, #T_01f67_row6_col7 {\n",
       "  background-color: #46337f;\n",
       "  color: #f1f1f1;\n",
       "}\n",
       "#T_01f67_row1_col5, #T_01f67_row6_col3, #T_01f67_row8_col3 {\n",
       "  background-color: #460b5e;\n",
       "  color: #f1f1f1;\n",
       "}\n",
       "#T_01f67_row1_col6 {\n",
       "  background-color: #472f7d;\n",
       "  color: #f1f1f1;\n",
       "}\n",
       "#T_01f67_row1_col7, #T_01f67_row3_col5, #T_01f67_row11_col2, #T_01f67_row13_col2 {\n",
       "  background-color: #46327e;\n",
       "  color: #f1f1f1;\n",
       "}\n",
       "#T_01f67_row1_col8 {\n",
       "  background-color: #481467;\n",
       "  color: #f1f1f1;\n",
       "}\n",
       "#T_01f67_row1_col9, #T_01f67_row2_col5 {\n",
       "  background-color: #423f85;\n",
       "  color: #f1f1f1;\n",
       "}\n",
       "#T_01f67_row1_col10, #T_01f67_row9_col1 {\n",
       "  background-color: #481d6f;\n",
       "  color: #f1f1f1;\n",
       "}\n",
       "#T_01f67_row1_col11, #T_01f67_row5_col7 {\n",
       "  background-color: #3d4d8a;\n",
       "  color: #f1f1f1;\n",
       "}\n",
       "#T_01f67_row2_col1, #T_01f67_row4_col10, #T_01f67_row7_col2 {\n",
       "  background-color: #482878;\n",
       "  color: #f1f1f1;\n",
       "}\n",
       "#T_01f67_row2_col3 {\n",
       "  background-color: #2eb37c;\n",
       "  color: #f1f1f1;\n",
       "}\n",
       "#T_01f67_row2_col4, #T_01f67_row9_col7 {\n",
       "  background-color: #26828e;\n",
       "  color: #f1f1f1;\n",
       "}\n",
       "#T_01f67_row2_col6, #T_01f67_row3_col11, #T_01f67_row11_col0, #T_01f67_row13_col0 {\n",
       "  background-color: #481769;\n",
       "  color: #f1f1f1;\n",
       "}\n",
       "#T_01f67_row2_col7, #T_01f67_row4_col13 {\n",
       "  background-color: #46075a;\n",
       "  color: #f1f1f1;\n",
       "}\n",
       "#T_01f67_row2_col8, #T_01f67_row3_col9, #T_01f67_row4_col0 {\n",
       "  background-color: #482374;\n",
       "  color: #f1f1f1;\n",
       "}\n",
       "#T_01f67_row2_col10 {\n",
       "  background-color: #443b84;\n",
       "  color: #f1f1f1;\n",
       "}\n",
       "#T_01f67_row2_col11, #T_01f67_row6_col13, #T_01f67_row13_col3 {\n",
       "  background-color: #482173;\n",
       "  color: #f1f1f1;\n",
       "}\n",
       "#T_01f67_row2_col12 {\n",
       "  background-color: #26818e;\n",
       "  color: #f1f1f1;\n",
       "}\n",
       "#T_01f67_row2_col13, #T_01f67_row8_col1, #T_01f67_row10_col1 {\n",
       "  background-color: #450457;\n",
       "  color: #f1f1f1;\n",
       "}\n",
       "#T_01f67_row3_col0, #T_01f67_row7_col1, #T_01f67_row8_col0, #T_01f67_row11_col5 {\n",
       "  background-color: #472d7b;\n",
       "  color: #f1f1f1;\n",
       "}\n",
       "#T_01f67_row3_col1 {\n",
       "  background-color: #39558c;\n",
       "  color: #f1f1f1;\n",
       "}\n",
       "#T_01f67_row3_col2 {\n",
       "  background-color: #34b679;\n",
       "  color: #f1f1f1;\n",
       "}\n",
       "#T_01f67_row3_col4 {\n",
       "  background-color: #2e6e8e;\n",
       "  color: #f1f1f1;\n",
       "}\n",
       "#T_01f67_row3_col12 {\n",
       "  background-color: #1f9f88;\n",
       "  color: #f1f1f1;\n",
       "}\n",
       "#T_01f67_row4_col1, #T_01f67_row6_col0, #T_01f67_row12_col7 {\n",
       "  background-color: #482071;\n",
       "  color: #f1f1f1;\n",
       "}\n",
       "#T_01f67_row4_col2, #T_01f67_row10_col8 {\n",
       "  background-color: #238a8d;\n",
       "  color: #f1f1f1;\n",
       "}\n",
       "#T_01f67_row4_col3 {\n",
       "  background-color: #2e6f8e;\n",
       "  color: #f1f1f1;\n",
       "}\n",
       "#T_01f67_row4_col5 {\n",
       "  background-color: #424086;\n",
       "  color: #f1f1f1;\n",
       "}\n",
       "#T_01f67_row4_col6, #T_01f67_row5_col9 {\n",
       "  background-color: #3e4a89;\n",
       "  color: #f1f1f1;\n",
       "}\n",
       "#T_01f67_row4_col7 {\n",
       "  background-color: #481b6d;\n",
       "  color: #f1f1f1;\n",
       "}\n",
       "#T_01f67_row4_col8, #T_01f67_row7_col0, #T_01f67_row13_col4 {\n",
       "  background-color: #482576;\n",
       "  color: #f1f1f1;\n",
       "}\n",
       "#T_01f67_row4_col9, #T_01f67_row6_col1 {\n",
       "  background-color: #482475;\n",
       "  color: #f1f1f1;\n",
       "}\n",
       "#T_01f67_row4_col12 {\n",
       "  background-color: #25858e;\n",
       "  color: #f1f1f1;\n",
       "}\n",
       "#T_01f67_row5_col0 {\n",
       "  background-color: #48186a;\n",
       "  color: #f1f1f1;\n",
       "}\n",
       "#T_01f67_row5_col2 {\n",
       "  background-color: #3a538b;\n",
       "  color: #f1f1f1;\n",
       "}\n",
       "#T_01f67_row5_col3, #T_01f67_row10_col13, #T_01f67_row11_col1 {\n",
       "  background-color: #433d84;\n",
       "  color: #f1f1f1;\n",
       "}\n",
       "#T_01f67_row5_col4, #T_01f67_row12_col8 {\n",
       "  background-color: #3e4989;\n",
       "  color: #f1f1f1;\n",
       "}\n",
       "#T_01f67_row5_col6, #T_01f67_row5_col13, #T_01f67_row11_col3 {\n",
       "  background-color: #481a6c;\n",
       "  color: #f1f1f1;\n",
       "}\n",
       "#T_01f67_row5_col8, #T_01f67_row13_col5 {\n",
       "  background-color: #472a7a;\n",
       "  color: #f1f1f1;\n",
       "}\n",
       "#T_01f67_row5_col10 {\n",
       "  background-color: #471063;\n",
       "  color: #f1f1f1;\n",
       "}\n",
       "#T_01f67_row5_col11 {\n",
       "  background-color: #453781;\n",
       "  color: #f1f1f1;\n",
       "}\n",
       "#T_01f67_row5_col12 {\n",
       "  background-color: #404588;\n",
       "  color: #f1f1f1;\n",
       "}\n",
       "#T_01f67_row6_col2, #T_01f67_row9_col0, #T_01f67_row9_col12 {\n",
       "  background-color: #472e7c;\n",
       "  color: #f1f1f1;\n",
       "}\n",
       "#T_01f67_row6_col4 {\n",
       "  background-color: #3c508b;\n",
       "  color: #f1f1f1;\n",
       "}\n",
       "#T_01f67_row6_col5, #T_01f67_row12_col10 {\n",
       "  background-color: #481668;\n",
       "  color: #f1f1f1;\n",
       "}\n",
       "#T_01f67_row6_col8, #T_01f67_row8_col6 {\n",
       "  background-color: #375a8c;\n",
       "  color: #f1f1f1;\n",
       "}\n",
       "#T_01f67_row6_col9, #T_01f67_row12_col0 {\n",
       "  background-color: #481c6e;\n",
       "  color: #f1f1f1;\n",
       "}\n",
       "#T_01f67_row6_col10 {\n",
       "  background-color: #34608d;\n",
       "  color: #f1f1f1;\n",
       "}\n",
       "#T_01f67_row6_col11 {\n",
       "  background-color: #1f9a8a;\n",
       "  color: #f1f1f1;\n",
       "}\n",
       "#T_01f67_row6_col12 {\n",
       "  background-color: #460a5d;\n",
       "  color: #f1f1f1;\n",
       "}\n",
       "#T_01f67_row7_col4, #T_01f67_row11_col7 {\n",
       "  background-color: #482979;\n",
       "  color: #f1f1f1;\n",
       "}\n",
       "#T_01f67_row7_col5 {\n",
       "  background-color: #3c4f8a;\n",
       "  color: #f1f1f1;\n",
       "}\n",
       "#T_01f67_row7_col6, #T_01f67_row8_col2, #T_01f67_row12_col13 {\n",
       "  background-color: #453882;\n",
       "  color: #f1f1f1;\n",
       "}\n",
       "#T_01f67_row7_col8, #T_01f67_row10_col7 {\n",
       "  background-color: #34618d;\n",
       "  color: #f1f1f1;\n",
       "}\n",
       "#T_01f67_row7_col9, #T_01f67_row8_col10 {\n",
       "  background-color: #218e8d;\n",
       "  color: #f1f1f1;\n",
       "}\n",
       "#T_01f67_row7_col10 {\n",
       "  background-color: #30698e;\n",
       "  color: #f1f1f1;\n",
       "}\n",
       "#T_01f67_row7_col11 {\n",
       "  background-color: #453581;\n",
       "  color: #f1f1f1;\n",
       "}\n",
       "#T_01f67_row7_col13 {\n",
       "  background-color: #32648e;\n",
       "  color: #f1f1f1;\n",
       "}\n",
       "#T_01f67_row8_col4, #T_01f67_row11_col13 {\n",
       "  background-color: #472c7a;\n",
       "  color: #f1f1f1;\n",
       "}\n",
       "#T_01f67_row8_col5, #T_01f67_row10_col4 {\n",
       "  background-color: #482677;\n",
       "  color: #f1f1f1;\n",
       "}\n",
       "#T_01f67_row8_col7 {\n",
       "  background-color: #365d8d;\n",
       "  color: #f1f1f1;\n",
       "}\n",
       "#T_01f67_row8_col9 {\n",
       "  background-color: #27808e;\n",
       "  color: #f1f1f1;\n",
       "}\n",
       "#T_01f67_row8_col13, #T_01f67_row10_col0 {\n",
       "  background-color: #3d4e8a;\n",
       "  color: #f1f1f1;\n",
       "}\n",
       "#T_01f67_row9_col5, #T_01f67_row12_col1, #T_01f67_row13_col6 {\n",
       "  background-color: #463480;\n",
       "  color: #f1f1f1;\n",
       "}\n",
       "#T_01f67_row9_col8 {\n",
       "  background-color: #2b748e;\n",
       "  color: #f1f1f1;\n",
       "}\n",
       "#T_01f67_row9_col10 {\n",
       "  background-color: #2f6c8e;\n",
       "  color: #f1f1f1;\n",
       "}\n",
       "#T_01f67_row9_col11 {\n",
       "  background-color: #470d60;\n",
       "  color: #f1f1f1;\n",
       "}\n",
       "#T_01f67_row9_col13 {\n",
       "  background-color: #2a788e;\n",
       "  color: #f1f1f1;\n",
       "}\n",
       "#T_01f67_row10_col6, #T_01f67_row13_col8 {\n",
       "  background-color: #375b8d;\n",
       "  color: #f1f1f1;\n",
       "}\n",
       "#T_01f67_row10_col9 {\n",
       "  background-color: #2c738e;\n",
       "  color: #f1f1f1;\n",
       "}\n",
       "#T_01f67_row10_col11 {\n",
       "  background-color: #297a8e;\n",
       "  color: #f1f1f1;\n",
       "}\n",
       "#T_01f67_row11_col6 {\n",
       "  background-color: #1f988b;\n",
       "  color: #f1f1f1;\n",
       "}\n",
       "#T_01f67_row11_col8 {\n",
       "  background-color: #424186;\n",
       "  color: #f1f1f1;\n",
       "}\n",
       "#T_01f67_row11_col10 {\n",
       "  background-color: #297b8e;\n",
       "  color: #f1f1f1;\n",
       "}\n",
       "#T_01f67_row12_col2 {\n",
       "  background-color: #218f8d;\n",
       "  color: #f1f1f1;\n",
       "}\n",
       "#T_01f67_row12_col3 {\n",
       "  background-color: #20a486;\n",
       "  color: #f1f1f1;\n",
       "}\n",
       "#T_01f67_row12_col4, #T_01f67_row13_col9 {\n",
       "  background-color: #228c8d;\n",
       "  color: #f1f1f1;\n",
       "}\n",
       "#T_01f67_row12_col9 {\n",
       "  background-color: #3f4889;\n",
       "  color: #f1f1f1;\n",
       "}\n",
       "#T_01f67_row13_col7 {\n",
       "  background-color: #2f6b8e;\n",
       "  color: #f1f1f1;\n",
       "}\n",
       "#T_01f67_row13_col10 {\n",
       "  background-color: #3b528b;\n",
       "  color: #f1f1f1;\n",
       "}\n",
       "#T_01f67_row13_col11 {\n",
       "  background-color: #414487;\n",
       "  color: #f1f1f1;\n",
       "}\n",
       "</style>\n",
       "<table id=\"T_01f67\">\n",
       "  <thead>\n",
       "    <tr>\n",
       "      <th class=\"blank level0\" >&nbsp;</th>\n",
       "      <th id=\"T_01f67_level0_col0\" class=\"col_heading level0 col0\" >AGE</th>\n",
       "      <th id=\"T_01f67_level0_col1\" class=\"col_heading level0 col1\" >SMOKING</th>\n",
       "      <th id=\"T_01f67_level0_col2\" class=\"col_heading level0 col2\" >YELLOW_FINGERS</th>\n",
       "      <th id=\"T_01f67_level0_col3\" class=\"col_heading level0 col3\" >ANXIETY</th>\n",
       "      <th id=\"T_01f67_level0_col4\" class=\"col_heading level0 col4\" >PEER_PRESSURE</th>\n",
       "      <th id=\"T_01f67_level0_col5\" class=\"col_heading level0 col5\" >CHRONIC DISEASE</th>\n",
       "      <th id=\"T_01f67_level0_col6\" class=\"col_heading level0 col6\" >FATIGUE </th>\n",
       "      <th id=\"T_01f67_level0_col7\" class=\"col_heading level0 col7\" >ALLERGY </th>\n",
       "      <th id=\"T_01f67_level0_col8\" class=\"col_heading level0 col8\" >WHEEZING</th>\n",
       "      <th id=\"T_01f67_level0_col9\" class=\"col_heading level0 col9\" >ALCOHOL CONSUMING</th>\n",
       "      <th id=\"T_01f67_level0_col10\" class=\"col_heading level0 col10\" >COUGHING</th>\n",
       "      <th id=\"T_01f67_level0_col11\" class=\"col_heading level0 col11\" >SHORTNESS OF BREATH</th>\n",
       "      <th id=\"T_01f67_level0_col12\" class=\"col_heading level0 col12\" >SWALLOWING DIFFICULTY</th>\n",
       "      <th id=\"T_01f67_level0_col13\" class=\"col_heading level0 col13\" >CHEST PAIN</th>\n",
       "    </tr>\n",
       "  </thead>\n",
       "  <tbody>\n",
       "    <tr>\n",
       "      <th id=\"T_01f67_level0_row0\" class=\"row_heading level0 row0\" >AGE</th>\n",
       "      <td id=\"T_01f67_row0_col0\" class=\"data row0 col0\" >1.000000</td>\n",
       "      <td id=\"T_01f67_row0_col1\" class=\"data row0 col1\" >-0.084475</td>\n",
       "      <td id=\"T_01f67_row0_col2\" class=\"data row0 col2\" >0.005205</td>\n",
       "      <td id=\"T_01f67_row0_col3\" class=\"data row0 col3\" >0.053170</td>\n",
       "      <td id=\"T_01f67_row0_col4\" class=\"data row0 col4\" >0.018685</td>\n",
       "      <td id=\"T_01f67_row0_col5\" class=\"data row0 col5\" >-0.012642</td>\n",
       "      <td id=\"T_01f67_row0_col6\" class=\"data row0 col6\" >0.012614</td>\n",
       "      <td id=\"T_01f67_row0_col7\" class=\"data row0 col7\" >0.027990</td>\n",
       "      <td id=\"T_01f67_row0_col8\" class=\"data row0 col8\" >0.055011</td>\n",
       "      <td id=\"T_01f67_row0_col9\" class=\"data row0 col9\" >0.058985</td>\n",
       "      <td id=\"T_01f67_row0_col10\" class=\"data row0 col10\" >0.169950</td>\n",
       "      <td id=\"T_01f67_row0_col11\" class=\"data row0 col11\" >-0.017513</td>\n",
       "      <td id=\"T_01f67_row0_col12\" class=\"data row0 col12\" >-0.001270</td>\n",
       "      <td id=\"T_01f67_row0_col13\" class=\"data row0 col13\" >-0.018104</td>\n",
       "    </tr>\n",
       "    <tr>\n",
       "      <th id=\"T_01f67_level0_row1\" class=\"row_heading level0 row1\" >SMOKING</th>\n",
       "      <td id=\"T_01f67_row1_col0\" class=\"data row1 col0\" >-0.084475</td>\n",
       "      <td id=\"T_01f67_row1_col1\" class=\"data row1 col1\" >1.000000</td>\n",
       "      <td id=\"T_01f67_row1_col2\" class=\"data row1 col2\" >-0.014585</td>\n",
       "      <td id=\"T_01f67_row1_col3\" class=\"data row1 col3\" >0.160267</td>\n",
       "      <td id=\"T_01f67_row1_col4\" class=\"data row1 col4\" >-0.042822</td>\n",
       "      <td id=\"T_01f67_row1_col5\" class=\"data row1 col5\" >-0.141522</td>\n",
       "      <td id=\"T_01f67_row1_col6\" class=\"data row1 col6\" >-0.029575</td>\n",
       "      <td id=\"T_01f67_row1_col7\" class=\"data row1 col7\" >0.001913</td>\n",
       "      <td id=\"T_01f67_row1_col8\" class=\"data row1 col8\" >-0.129426</td>\n",
       "      <td id=\"T_01f67_row1_col9\" class=\"data row1 col9\" >-0.050623</td>\n",
       "      <td id=\"T_01f67_row1_col10\" class=\"data row1 col10\" >-0.129471</td>\n",
       "      <td id=\"T_01f67_row1_col11\" class=\"data row1 col11\" >0.061264</td>\n",
       "      <td id=\"T_01f67_row1_col12\" class=\"data row1 col12\" >0.030718</td>\n",
       "      <td id=\"T_01f67_row1_col13\" class=\"data row1 col13\" >0.120117</td>\n",
       "    </tr>\n",
       "    <tr>\n",
       "      <th id=\"T_01f67_level0_row2\" class=\"row_heading level0 row2\" >YELLOW_FINGERS</th>\n",
       "      <td id=\"T_01f67_row2_col0\" class=\"data row2 col0\" >0.005205</td>\n",
       "      <td id=\"T_01f67_row2_col1\" class=\"data row2 col1\" >-0.014585</td>\n",
       "      <td id=\"T_01f67_row2_col2\" class=\"data row2 col2\" >1.000000</td>\n",
       "      <td id=\"T_01f67_row2_col3\" class=\"data row2 col3\" >0.565829</td>\n",
       "      <td id=\"T_01f67_row2_col4\" class=\"data row2 col4\" >0.323083</td>\n",
       "      <td id=\"T_01f67_row2_col5\" class=\"data row2 col5\" >0.041122</td>\n",
       "      <td id=\"T_01f67_row2_col6\" class=\"data row2 col6\" >-0.118058</td>\n",
       "      <td id=\"T_01f67_row2_col7\" class=\"data row2 col7\" >-0.144300</td>\n",
       "      <td id=\"T_01f67_row2_col8\" class=\"data row2 col8\" >-0.078515</td>\n",
       "      <td id=\"T_01f67_row2_col9\" class=\"data row2 col9\" >-0.289025</td>\n",
       "      <td id=\"T_01f67_row2_col10\" class=\"data row2 col10\" >-0.012640</td>\n",
       "      <td id=\"T_01f67_row2_col11\" class=\"data row2 col11\" >-0.105944</td>\n",
       "      <td id=\"T_01f67_row2_col12\" class=\"data row2 col12\" >0.345904</td>\n",
       "      <td id=\"T_01f67_row2_col13\" class=\"data row2 col13\" >-0.104829</td>\n",
       "    </tr>\n",
       "    <tr>\n",
       "      <th id=\"T_01f67_level0_row3\" class=\"row_heading level0 row3\" >ANXIETY</th>\n",
       "      <td id=\"T_01f67_row3_col0\" class=\"data row3 col0\" >0.053170</td>\n",
       "      <td id=\"T_01f67_row3_col1\" class=\"data row3 col1\" >0.160267</td>\n",
       "      <td id=\"T_01f67_row3_col2\" class=\"data row3 col2\" >0.565829</td>\n",
       "      <td id=\"T_01f67_row3_col3\" class=\"data row3 col3\" >1.000000</td>\n",
       "      <td id=\"T_01f67_row3_col4\" class=\"data row3 col4\" >0.216841</td>\n",
       "      <td id=\"T_01f67_row3_col5\" class=\"data row3 col5\" >-0.009678</td>\n",
       "      <td id=\"T_01f67_row3_col6\" class=\"data row3 col6\" >-0.188538</td>\n",
       "      <td id=\"T_01f67_row3_col7\" class=\"data row3 col7\" >-0.165750</td>\n",
       "      <td id=\"T_01f67_row3_col8\" class=\"data row3 col8\" >-0.191807</td>\n",
       "      <td id=\"T_01f67_row3_col9\" class=\"data row3 col9\" >-0.165750</td>\n",
       "      <td id=\"T_01f67_row3_col10\" class=\"data row3 col10\" >-0.225644</td>\n",
       "      <td id=\"T_01f67_row3_col11\" class=\"data row3 col11\" >-0.144077</td>\n",
       "      <td id=\"T_01f67_row3_col12\" class=\"data row3 col12\" >0.489403</td>\n",
       "      <td id=\"T_01f67_row3_col13\" class=\"data row3 col13\" >-0.113634</td>\n",
       "    </tr>\n",
       "    <tr>\n",
       "      <th id=\"T_01f67_level0_row4\" class=\"row_heading level0 row4\" >PEER_PRESSURE</th>\n",
       "      <td id=\"T_01f67_row4_col0\" class=\"data row4 col0\" >0.018685</td>\n",
       "      <td id=\"T_01f67_row4_col1\" class=\"data row4 col1\" >-0.042822</td>\n",
       "      <td id=\"T_01f67_row4_col2\" class=\"data row4 col2\" >0.323083</td>\n",
       "      <td id=\"T_01f67_row4_col3\" class=\"data row4 col3\" >0.216841</td>\n",
       "      <td id=\"T_01f67_row4_col4\" class=\"data row4 col4\" >1.000000</td>\n",
       "      <td id=\"T_01f67_row4_col5\" class=\"data row4 col5\" >0.048515</td>\n",
       "      <td id=\"T_01f67_row4_col6\" class=\"data row4 col6\" >0.078148</td>\n",
       "      <td id=\"T_01f67_row4_col7\" class=\"data row4 col7\" >-0.081800</td>\n",
       "      <td id=\"T_01f67_row4_col8\" class=\"data row4 col8\" >-0.068771</td>\n",
       "      <td id=\"T_01f67_row4_col9\" class=\"data row4 col9\" >-0.159973</td>\n",
       "      <td id=\"T_01f67_row4_col10\" class=\"data row4 col10\" >-0.089019</td>\n",
       "      <td id=\"T_01f67_row4_col11\" class=\"data row4 col11\" >-0.220175</td>\n",
       "      <td id=\"T_01f67_row4_col12\" class=\"data row4 col12\" >0.366590</td>\n",
       "      <td id=\"T_01f67_row4_col13\" class=\"data row4 col13\" >-0.094828</td>\n",
       "    </tr>\n",
       "    <tr>\n",
       "      <th id=\"T_01f67_level0_row5\" class=\"row_heading level0 row5\" >CHRONIC DISEASE</th>\n",
       "      <td id=\"T_01f67_row5_col0\" class=\"data row5 col0\" >-0.012642</td>\n",
       "      <td id=\"T_01f67_row5_col1\" class=\"data row5 col1\" >-0.141522</td>\n",
       "      <td id=\"T_01f67_row5_col2\" class=\"data row5 col2\" >0.041122</td>\n",
       "      <td id=\"T_01f67_row5_col3\" class=\"data row5 col3\" >-0.009678</td>\n",
       "      <td id=\"T_01f67_row5_col4\" class=\"data row5 col4\" >0.048515</td>\n",
       "      <td id=\"T_01f67_row5_col5\" class=\"data row5 col5\" >1.000000</td>\n",
       "      <td id=\"T_01f67_row5_col6\" class=\"data row5 col6\" >-0.110529</td>\n",
       "      <td id=\"T_01f67_row5_col7\" class=\"data row5 col7\" >0.106386</td>\n",
       "      <td id=\"T_01f67_row5_col8\" class=\"data row5 col8\" >-0.049967</td>\n",
       "      <td id=\"T_01f67_row5_col9\" class=\"data row5 col9\" >0.002150</td>\n",
       "      <td id=\"T_01f67_row5_col10\" class=\"data row5 col10\" >-0.175287</td>\n",
       "      <td id=\"T_01f67_row5_col11\" class=\"data row5 col11\" >-0.026459</td>\n",
       "      <td id=\"T_01f67_row5_col12\" class=\"data row5 col12\" >0.075176</td>\n",
       "      <td id=\"T_01f67_row5_col13\" class=\"data row5 col13\" >-0.036938</td>\n",
       "    </tr>\n",
       "    <tr>\n",
       "      <th id=\"T_01f67_level0_row6\" class=\"row_heading level0 row6\" >FATIGUE </th>\n",
       "      <td id=\"T_01f67_row6_col0\" class=\"data row6 col0\" >0.012614</td>\n",
       "      <td id=\"T_01f67_row6_col1\" class=\"data row6 col1\" >-0.029575</td>\n",
       "      <td id=\"T_01f67_row6_col2\" class=\"data row6 col2\" >-0.118058</td>\n",
       "      <td id=\"T_01f67_row6_col3\" class=\"data row6 col3\" >-0.188538</td>\n",
       "      <td id=\"T_01f67_row6_col4\" class=\"data row6 col4\" >0.078148</td>\n",
       "      <td id=\"T_01f67_row6_col5\" class=\"data row6 col5\" >-0.110529</td>\n",
       "      <td id=\"T_01f67_row6_col6\" class=\"data row6 col6\" >1.000000</td>\n",
       "      <td id=\"T_01f67_row6_col7\" class=\"data row6 col7\" >0.003056</td>\n",
       "      <td id=\"T_01f67_row6_col8\" class=\"data row6 col8\" >0.141937</td>\n",
       "      <td id=\"T_01f67_row6_col9\" class=\"data row6 col9\" >-0.191377</td>\n",
       "      <td id=\"T_01f67_row6_col10\" class=\"data row6 col10\" >0.146856</td>\n",
       "      <td id=\"T_01f67_row6_col11\" class=\"data row6 col11\" >0.441745</td>\n",
       "      <td id=\"T_01f67_row6_col12\" class=\"data row6 col12\" >-0.132790</td>\n",
       "      <td id=\"T_01f67_row6_col13\" class=\"data row6 col13\" >-0.010832</td>\n",
       "    </tr>\n",
       "    <tr>\n",
       "      <th id=\"T_01f67_level0_row7\" class=\"row_heading level0 row7\" >ALLERGY </th>\n",
       "      <td id=\"T_01f67_row7_col0\" class=\"data row7 col0\" >0.027990</td>\n",
       "      <td id=\"T_01f67_row7_col1\" class=\"data row7 col1\" >0.001913</td>\n",
       "      <td id=\"T_01f67_row7_col2\" class=\"data row7 col2\" >-0.144300</td>\n",
       "      <td id=\"T_01f67_row7_col3\" class=\"data row7 col3\" >-0.165750</td>\n",
       "      <td id=\"T_01f67_row7_col4\" class=\"data row7 col4\" >-0.081800</td>\n",
       "      <td id=\"T_01f67_row7_col5\" class=\"data row7 col5\" >0.106386</td>\n",
       "      <td id=\"T_01f67_row7_col6\" class=\"data row7 col6\" >0.003056</td>\n",
       "      <td id=\"T_01f67_row7_col7\" class=\"data row7 col7\" >1.000000</td>\n",
       "      <td id=\"T_01f67_row7_col8\" class=\"data row7 col8\" >0.173867</td>\n",
       "      <td id=\"T_01f67_row7_col9\" class=\"data row7 col9\" >0.344339</td>\n",
       "      <td id=\"T_01f67_row7_col10\" class=\"data row7 col10\" >0.189524</td>\n",
       "      <td id=\"T_01f67_row7_col11\" class=\"data row7 col11\" >-0.030056</td>\n",
       "      <td id=\"T_01f67_row7_col12\" class=\"data row7 col12\" >-0.061508</td>\n",
       "      <td id=\"T_01f67_row7_col13\" class=\"data row7 col13\" >0.239433</td>\n",
       "    </tr>\n",
       "    <tr>\n",
       "      <th id=\"T_01f67_level0_row8\" class=\"row_heading level0 row8\" >WHEEZING</th>\n",
       "      <td id=\"T_01f67_row8_col0\" class=\"data row8 col0\" >0.055011</td>\n",
       "      <td id=\"T_01f67_row8_col1\" class=\"data row8 col1\" >-0.129426</td>\n",
       "      <td id=\"T_01f67_row8_col2\" class=\"data row8 col2\" >-0.078515</td>\n",
       "      <td id=\"T_01f67_row8_col3\" class=\"data row8 col3\" >-0.191807</td>\n",
       "      <td id=\"T_01f67_row8_col4\" class=\"data row8 col4\" >-0.068771</td>\n",
       "      <td id=\"T_01f67_row8_col5\" class=\"data row8 col5\" >-0.049967</td>\n",
       "      <td id=\"T_01f67_row8_col6\" class=\"data row8 col6\" >0.141937</td>\n",
       "      <td id=\"T_01f67_row8_col7\" class=\"data row8 col7\" >0.173867</td>\n",
       "      <td id=\"T_01f67_row8_col8\" class=\"data row8 col8\" >1.000000</td>\n",
       "      <td id=\"T_01f67_row8_col9\" class=\"data row8 col9\" >0.265659</td>\n",
       "      <td id=\"T_01f67_row8_col10\" class=\"data row8 col10\" >0.374265</td>\n",
       "      <td id=\"T_01f67_row8_col11\" class=\"data row8 col11\" >0.037834</td>\n",
       "      <td id=\"T_01f67_row8_col12\" class=\"data row8 col12\" >0.069027</td>\n",
       "      <td id=\"T_01f67_row8_col13\" class=\"data row8 col13\" >0.147640</td>\n",
       "    </tr>\n",
       "    <tr>\n",
       "      <th id=\"T_01f67_level0_row9\" class=\"row_heading level0 row9\" >ALCOHOL CONSUMING</th>\n",
       "      <td id=\"T_01f67_row9_col0\" class=\"data row9 col0\" >0.058985</td>\n",
       "      <td id=\"T_01f67_row9_col1\" class=\"data row9 col1\" >-0.050623</td>\n",
       "      <td id=\"T_01f67_row9_col2\" class=\"data row9 col2\" >-0.289025</td>\n",
       "      <td id=\"T_01f67_row9_col3\" class=\"data row9 col3\" >-0.165750</td>\n",
       "      <td id=\"T_01f67_row9_col4\" class=\"data row9 col4\" >-0.159973</td>\n",
       "      <td id=\"T_01f67_row9_col5\" class=\"data row9 col5\" >0.002150</td>\n",
       "      <td id=\"T_01f67_row9_col6\" class=\"data row9 col6\" >-0.191377</td>\n",
       "      <td id=\"T_01f67_row9_col7\" class=\"data row9 col7\" >0.344339</td>\n",
       "      <td id=\"T_01f67_row9_col8\" class=\"data row9 col8\" >0.265659</td>\n",
       "      <td id=\"T_01f67_row9_col9\" class=\"data row9 col9\" >1.000000</td>\n",
       "      <td id=\"T_01f67_row9_col10\" class=\"data row9 col10\" >0.202720</td>\n",
       "      <td id=\"T_01f67_row9_col11\" class=\"data row9 col11\" >-0.179416</td>\n",
       "      <td id=\"T_01f67_row9_col12\" class=\"data row9 col12\" >-0.009294</td>\n",
       "      <td id=\"T_01f67_row9_col13\" class=\"data row9 col13\" >0.331226</td>\n",
       "    </tr>\n",
       "    <tr>\n",
       "      <th id=\"T_01f67_level0_row10\" class=\"row_heading level0 row10\" >COUGHING</th>\n",
       "      <td id=\"T_01f67_row10_col0\" class=\"data row10 col0\" >0.169950</td>\n",
       "      <td id=\"T_01f67_row10_col1\" class=\"data row10 col1\" >-0.129471</td>\n",
       "      <td id=\"T_01f67_row10_col2\" class=\"data row10 col2\" >-0.012640</td>\n",
       "      <td id=\"T_01f67_row10_col3\" class=\"data row10 col3\" >-0.225644</td>\n",
       "      <td id=\"T_01f67_row10_col4\" class=\"data row10 col4\" >-0.089019</td>\n",
       "      <td id=\"T_01f67_row10_col5\" class=\"data row10 col5\" >-0.175287</td>\n",
       "      <td id=\"T_01f67_row10_col6\" class=\"data row10 col6\" >0.146856</td>\n",
       "      <td id=\"T_01f67_row10_col7\" class=\"data row10 col7\" >0.189524</td>\n",
       "      <td id=\"T_01f67_row10_col8\" class=\"data row10 col8\" >0.374265</td>\n",
       "      <td id=\"T_01f67_row10_col9\" class=\"data row10 col9\" >0.202720</td>\n",
       "      <td id=\"T_01f67_row10_col10\" class=\"data row10 col10\" >1.000000</td>\n",
       "      <td id=\"T_01f67_row10_col11\" class=\"data row10 col11\" >0.277385</td>\n",
       "      <td id=\"T_01f67_row10_col12\" class=\"data row10 col12\" >-0.157586</td>\n",
       "      <td id=\"T_01f67_row10_col13\" class=\"data row10 col13\" >0.083958</td>\n",
       "    </tr>\n",
       "    <tr>\n",
       "      <th id=\"T_01f67_level0_row11\" class=\"row_heading level0 row11\" >SHORTNESS OF BREATH</th>\n",
       "      <td id=\"T_01f67_row11_col0\" class=\"data row11 col0\" >-0.017513</td>\n",
       "      <td id=\"T_01f67_row11_col1\" class=\"data row11 col1\" >0.061264</td>\n",
       "      <td id=\"T_01f67_row11_col2\" class=\"data row11 col2\" >-0.105944</td>\n",
       "      <td id=\"T_01f67_row11_col3\" class=\"data row11 col3\" >-0.144077</td>\n",
       "      <td id=\"T_01f67_row11_col4\" class=\"data row11 col4\" >-0.220175</td>\n",
       "      <td id=\"T_01f67_row11_col5\" class=\"data row11 col5\" >-0.026459</td>\n",
       "      <td id=\"T_01f67_row11_col6\" class=\"data row11 col6\" >0.441745</td>\n",
       "      <td id=\"T_01f67_row11_col7\" class=\"data row11 col7\" >-0.030056</td>\n",
       "      <td id=\"T_01f67_row11_col8\" class=\"data row11 col8\" >0.037834</td>\n",
       "      <td id=\"T_01f67_row11_col9\" class=\"data row11 col9\" >-0.179416</td>\n",
       "      <td id=\"T_01f67_row11_col10\" class=\"data row11 col10\" >0.277385</td>\n",
       "      <td id=\"T_01f67_row11_col11\" class=\"data row11 col11\" >1.000000</td>\n",
       "      <td id=\"T_01f67_row11_col12\" class=\"data row11 col12\" >-0.161015</td>\n",
       "      <td id=\"T_01f67_row11_col13\" class=\"data row11 col13\" >0.024256</td>\n",
       "    </tr>\n",
       "    <tr>\n",
       "      <th id=\"T_01f67_level0_row12\" class=\"row_heading level0 row12\" >SWALLOWING DIFFICULTY</th>\n",
       "      <td id=\"T_01f67_row12_col0\" class=\"data row12 col0\" >-0.001270</td>\n",
       "      <td id=\"T_01f67_row12_col1\" class=\"data row12 col1\" >0.030718</td>\n",
       "      <td id=\"T_01f67_row12_col2\" class=\"data row12 col2\" >0.345904</td>\n",
       "      <td id=\"T_01f67_row12_col3\" class=\"data row12 col3\" >0.489403</td>\n",
       "      <td id=\"T_01f67_row12_col4\" class=\"data row12 col4\" >0.366590</td>\n",
       "      <td id=\"T_01f67_row12_col5\" class=\"data row12 col5\" >0.075176</td>\n",
       "      <td id=\"T_01f67_row12_col6\" class=\"data row12 col6\" >-0.132790</td>\n",
       "      <td id=\"T_01f67_row12_col7\" class=\"data row12 col7\" >-0.061508</td>\n",
       "      <td id=\"T_01f67_row12_col8\" class=\"data row12 col8\" >0.069027</td>\n",
       "      <td id=\"T_01f67_row12_col9\" class=\"data row12 col9\" >-0.009294</td>\n",
       "      <td id=\"T_01f67_row12_col10\" class=\"data row12 col10\" >-0.157586</td>\n",
       "      <td id=\"T_01f67_row12_col11\" class=\"data row12 col11\" >-0.161015</td>\n",
       "      <td id=\"T_01f67_row12_col12\" class=\"data row12 col12\" >1.000000</td>\n",
       "      <td id=\"T_01f67_row12_col13\" class=\"data row12 col13\" >0.069027</td>\n",
       "    </tr>\n",
       "    <tr>\n",
       "      <th id=\"T_01f67_level0_row13\" class=\"row_heading level0 row13\" >CHEST PAIN</th>\n",
       "      <td id=\"T_01f67_row13_col0\" class=\"data row13 col0\" >-0.018104</td>\n",
       "      <td id=\"T_01f67_row13_col1\" class=\"data row13 col1\" >0.120117</td>\n",
       "      <td id=\"T_01f67_row13_col2\" class=\"data row13 col2\" >-0.104829</td>\n",
       "      <td id=\"T_01f67_row13_col3\" class=\"data row13 col3\" >-0.113634</td>\n",
       "      <td id=\"T_01f67_row13_col4\" class=\"data row13 col4\" >-0.094828</td>\n",
       "      <td id=\"T_01f67_row13_col5\" class=\"data row13 col5\" >-0.036938</td>\n",
       "      <td id=\"T_01f67_row13_col6\" class=\"data row13 col6\" >-0.010832</td>\n",
       "      <td id=\"T_01f67_row13_col7\" class=\"data row13 col7\" >0.239433</td>\n",
       "      <td id=\"T_01f67_row13_col8\" class=\"data row13 col8\" >0.147640</td>\n",
       "      <td id=\"T_01f67_row13_col9\" class=\"data row13 col9\" >0.331226</td>\n",
       "      <td id=\"T_01f67_row13_col10\" class=\"data row13 col10\" >0.083958</td>\n",
       "      <td id=\"T_01f67_row13_col11\" class=\"data row13 col11\" >0.024256</td>\n",
       "      <td id=\"T_01f67_row13_col12\" class=\"data row13 col12\" >0.069027</td>\n",
       "      <td id=\"T_01f67_row13_col13\" class=\"data row13 col13\" >1.000000</td>\n",
       "    </tr>\n",
       "  </tbody>\n",
       "</table>\n"
      ],
      "text/plain": [
       "<pandas.io.formats.style.Styler at 0x2435430e910>"
      ]
     },
     "execution_count": 10,
     "metadata": {},
     "output_type": "execute_result"
    }
   ],
   "source": [
    "df.corr().style.background_gradient(cmap='viridis')"
   ]
  },
  {
   "cell_type": "code",
   "execution_count": 11,
   "id": "92881a87",
   "metadata": {},
   "outputs": [
    {
     "data": {
      "text/plain": [
       "GENDER                   0\n",
       "AGE                      0\n",
       "SMOKING                  0\n",
       "YELLOW_FINGERS           0\n",
       "ANXIETY                  0\n",
       "PEER_PRESSURE            0\n",
       "CHRONIC DISEASE          0\n",
       "FATIGUE                  0\n",
       "ALLERGY                  0\n",
       "WHEEZING                 0\n",
       "ALCOHOL CONSUMING        0\n",
       "COUGHING                 0\n",
       "SHORTNESS OF BREATH      0\n",
       "SWALLOWING DIFFICULTY    0\n",
       "CHEST PAIN               0\n",
       "LUNG_CANCER              0\n",
       "dtype: int64"
      ]
     },
     "execution_count": 11,
     "metadata": {},
     "output_type": "execute_result"
    }
   ],
   "source": [
    "df.isnull().sum()"
   ]
  },
  {
   "cell_type": "code",
   "execution_count": 12,
   "id": "3a5c95c2",
   "metadata": {},
   "outputs": [
    {
     "data": {
      "text/plain": [
       "<AxesSubplot:xlabel='AGE'>"
      ]
     },
     "execution_count": 12,
     "metadata": {},
     "output_type": "execute_result"
    },
    {
     "data": {
      "image/png": "[encoded data removed]",
      "text/plain": [
       "<Figure size 432x288 with 1 Axes>"
      ]
     },
     "metadata": {
      "needs_background": "light"
     },
     "output_type": "display_data"
    }
   ],
   "source": [
    "pd.crosstab(df['AGE'], df['LUNG_CANCER']).plot(kind='bar')"
   ]
  },
  {
   "cell_type": "code",
   "execution_count": 13,
   "id": "3e4b2a43",
   "metadata": {},
   "outputs": [
    {
     "data": {
      "text/plain": [
       "Index(['GENDER', 'AGE', 'SMOKING', 'YELLOW_FINGERS', 'ANXIETY',\n",
       "       'PEER_PRESSURE', 'CHRONIC DISEASE', 'FATIGUE ', 'ALLERGY ', 'WHEEZING',\n",
       "       'ALCOHOL CONSUMING', 'COUGHING', 'SHORTNESS OF BREATH',\n",
       "       'SWALLOWING DIFFICULTY', 'CHEST PAIN', 'LUNG_CANCER'],\n",
       "      dtype='object')"
      ]
     },
     "execution_count": 13,
     "metadata": {},
     "output_type": "execute_result"
    }
   ],
   "source": [
    "df.columns"
   ]
  },
  {
   "cell_type": "code",
   "execution_count": 14,
   "id": "43986d9c",
   "metadata": {},
   "outputs": [
    {
     "data": {
      "text/plain": [
       "<AxesSubplot:xlabel='LUNG_CANCER', ylabel='count'>"
      ]
     },
     "execution_count": 14,
     "metadata": {},
     "output_type": "execute_result"
    },
    {
     "data": {
      "image/png": "[encoded data removed]",
      "text/plain": [
       "<Figure size 1080x1080 with 16 Axes>"
      ]
     },
     "metadata": {
      "needs_background": "light"
     },
     "output_type": "display_data"
    }
   ],
   "source": [
    "f, ax = plt.subplots(nrows=4, ncols=4, figsize=(15, 15))\n",
    "\n",
    "#fig, axes = plt.subplots((2, 2),figsize=(15, 15))\n",
    "\n",
    "#create chart in each subplot\n",
    "sns.boxplot(data=df, x='AGE', y='LUNG_CANCER', ax=ax[0,0])\n",
    "sns.countplot(x='GENDER',data=df,  ax=ax[1,0])\n",
    "sns.countplot(x='SMOKING',data=df,  ax=ax[2,0])\n",
    "sns.countplot(x='YELLOW_FINGERS',data=df,  ax=ax[3,0])\n",
    "sns.countplot(x='ANXIETY',data=df,  ax=ax[0,1])\n",
    "sns.countplot(x='PEER_PRESSURE',data=df,  ax=ax[1,1])\n",
    "sns.countplot(x='CHRONIC DISEASE',data=df,  ax=ax[2,1])\n",
    "sns.countplot(x='WHEEZING',data=df,  ax=ax[3,1])\n",
    "sns.countplot(x='ALCOHOL CONSUMING',data=df,  ax=ax[0,2])\n",
    "sns.countplot(x='COUGHING',data=df,  ax=ax[1,2])\n",
    "sns.countplot(x='SHORTNESS OF BREATH',data=df,  ax=ax[2,2])\n",
    "sns.countplot(x='SWALLOWING DIFFICULTY',data=df,  ax=ax[3,2])\n",
    "sns.countplot(x='CHEST PAIN',data=df,  ax=ax[0,3])\n",
    "sns.countplot(x='FATIGUE ',data=df,  ax=ax[1,3])\n",
    "sns.countplot(x='ALLERGY ',data=df,  ax=ax[2,3])\n",
    "sns.countplot(x='LUNG_CANCER',data=df,  ax=ax[3,3])"
   ]
  },
  {
   "cell_type": "code",
   "execution_count": 15,
   "id": "be5a4708",
   "metadata": {},
   "outputs": [
    {
     "name": "stderr",
     "output_type": "stream",
     "text": [
      "C:\\ProgramData\\Anaconda3\\lib\\site-packages\\seaborn\\distributions.py:2619: FutureWarning: `distplot` is a deprecated function and will be removed in a future version. Please adapt your code to use either `displot` (a figure-level function with similar flexibility) or `histplot` (an axes-level function for histograms).\n",
      "  warnings.warn(msg, FutureWarning)\n"
     ]
    },
    {
     "data": {
      "image/png": "[encoded data removed]",
      "text/plain": [
       "<Figure size 432x288 with 1 Axes>"
      ]
     },
     "metadata": {
      "needs_background": "light"
     },
     "output_type": "display_data"
    }
   ],
   "source": [
    "sns.distplot(df['AGE'])\n",
    "plt.show()"
   ]
  },
  {
   "cell_type": "code",
   "execution_count": 16,
   "id": "255a0626",
   "metadata": {},
   "outputs": [],
   "source": [
    "df.replace({\"GENDER\":{'F':0,'M':1}},inplace=True)\n",
    "df.replace({\"LUNG_CANCER\":{'NO':0,'YES':1}},inplace=True)"
   ]
  },
  {
   "cell_type": "code",
   "execution_count": 17,
   "id": "b0ca76c6",
   "metadata": {},
   "outputs": [
    {
     "data": {
      "text/html": [
       "<div>\n",
       "<style scoped>\n",
       "    .dataframe tbody tr th:only-of-type {\n",
       "        vertical-align: middle;\n",
       "    }\n",
       "\n",
       "    .dataframe tbody tr th {\n",
       "        vertical-align: top;\n",
       "    }\n",
       "\n",
       "    .dataframe thead th {\n",
       "        text-align: right;\n",
       "    }\n",
       "</style>\n",
       "<table border=\"1\" class=\"dataframe\">\n",
       "  <thead>\n",
       "    <tr style=\"text-align: right;\">\n",
       "      <th></th>\n",
       "      <th>GENDER</th>\n",
       "      <th>AGE</th>\n",
       "      <th>SMOKING</th>\n",
       "      <th>YELLOW_FINGERS</th>\n",
       "      <th>ANXIETY</th>\n",
       "      <th>PEER_PRESSURE</th>\n",
       "      <th>CHRONIC DISEASE</th>\n",
       "      <th>FATIGUE</th>\n",
       "      <th>ALLERGY</th>\n",
       "      <th>WHEEZING</th>\n",
       "      <th>ALCOHOL CONSUMING</th>\n",
       "      <th>COUGHING</th>\n",
       "      <th>SHORTNESS OF BREATH</th>\n",
       "      <th>SWALLOWING DIFFICULTY</th>\n",
       "      <th>CHEST PAIN</th>\n",
       "      <th>LUNG_CANCER</th>\n",
       "    </tr>\n",
       "  </thead>\n",
       "  <tbody>\n",
       "    <tr>\n",
       "      <th>0</th>\n",
       "      <td>1</td>\n",
       "      <td>69</td>\n",
       "      <td>1</td>\n",
       "      <td>2</td>\n",
       "      <td>2</td>\n",
       "      <td>1</td>\n",
       "      <td>1</td>\n",
       "      <td>2</td>\n",
       "      <td>1</td>\n",
       "      <td>2</td>\n",
       "      <td>2</td>\n",
       "      <td>2</td>\n",
       "      <td>2</td>\n",
       "      <td>2</td>\n",
       "      <td>2</td>\n",
       "      <td>1</td>\n",
       "    </tr>\n",
       "    <tr>\n",
       "      <th>1</th>\n",
       "      <td>1</td>\n",
       "      <td>74</td>\n",
       "      <td>2</td>\n",
       "      <td>1</td>\n",
       "      <td>1</td>\n",
       "      <td>1</td>\n",
       "      <td>2</td>\n",
       "      <td>2</td>\n",
       "      <td>2</td>\n",
       "      <td>1</td>\n",
       "      <td>1</td>\n",
       "      <td>1</td>\n",
       "      <td>2</td>\n",
       "      <td>2</td>\n",
       "      <td>2</td>\n",
       "      <td>1</td>\n",
       "    </tr>\n",
       "    <tr>\n",
       "      <th>2</th>\n",
       "      <td>0</td>\n",
       "      <td>59</td>\n",
       "      <td>1</td>\n",
       "      <td>1</td>\n",
       "      <td>1</td>\n",
       "      <td>2</td>\n",
       "      <td>1</td>\n",
       "      <td>2</td>\n",
       "      <td>1</td>\n",
       "      <td>2</td>\n",
       "      <td>1</td>\n",
       "      <td>2</td>\n",
       "      <td>2</td>\n",
       "      <td>1</td>\n",
       "      <td>2</td>\n",
       "      <td>0</td>\n",
       "    </tr>\n",
       "    <tr>\n",
       "      <th>3</th>\n",
       "      <td>1</td>\n",
       "      <td>63</td>\n",
       "      <td>2</td>\n",
       "      <td>2</td>\n",
       "      <td>2</td>\n",
       "      <td>1</td>\n",
       "      <td>1</td>\n",
       "      <td>1</td>\n",
       "      <td>1</td>\n",
       "      <td>1</td>\n",
       "      <td>2</td>\n",
       "      <td>1</td>\n",
       "      <td>1</td>\n",
       "      <td>2</td>\n",
       "      <td>2</td>\n",
       "      <td>0</td>\n",
       "    </tr>\n",
       "    <tr>\n",
       "      <th>4</th>\n",
       "      <td>0</td>\n",
       "      <td>63</td>\n",
       "      <td>1</td>\n",
       "      <td>2</td>\n",
       "      <td>1</td>\n",
       "      <td>1</td>\n",
       "      <td>1</td>\n",
       "      <td>1</td>\n",
       "      <td>1</td>\n",
       "      <td>2</td>\n",
       "      <td>1</td>\n",
       "      <td>2</td>\n",
       "      <td>2</td>\n",
       "      <td>1</td>\n",
       "      <td>1</td>\n",
       "      <td>0</td>\n",
       "    </tr>\n",
       "  </tbody>\n",
       "</table>\n",
       "</div>"
      ],
      "text/plain": [
       "   GENDER  AGE  SMOKING  YELLOW_FINGERS  ANXIETY  PEER_PRESSURE  \\\n",
       "0       1   69        1               2        2              1   \n",
       "1       1   74        2               1        1              1   \n",
       "2       0   59        1               1        1              2   \n",
       "3       1   63        2               2        2              1   \n",
       "4       0   63        1               2        1              1   \n",
       "\n",
       "   CHRONIC DISEASE  FATIGUE   ALLERGY   WHEEZING  ALCOHOL CONSUMING  COUGHING  \\\n",
       "0                1         2         1         2                  2         2   \n",
       "1                2         2         2         1                  1         1   \n",
       "2                1         2         1         2                  1         2   \n",
       "3                1         1         1         1                  2         1   \n",
       "4                1         1         1         2                  1         2   \n",
       "\n",
       "   SHORTNESS OF BREATH  SWALLOWING DIFFICULTY  CHEST PAIN  LUNG_CANCER  \n",
       "0                    2                      2           2            1  \n",
       "1                    2                      2           2            1  \n",
       "2                    2                      1           2            0  \n",
       "3                    1                      2           2            0  \n",
       "4                    2                      1           1            0  "
      ]
     },
     "execution_count": 17,
     "metadata": {},
     "output_type": "execute_result"
    }
   ],
   "source": [
    "df.head(5)"
   ]
  },
  {
   "cell_type": "markdown",
   "id": "c4436a0c",
   "metadata": {},
   "source": [
    "# ML model"
   ]
  },
  {
   "cell_type": "code",
   "execution_count": 18,
   "id": "b2871871",
   "metadata": {},
   "outputs": [
    {
     "data": {
      "text/plain": [
       "1    270\n",
       "0     39\n",
       "Name: LUNG_CANCER, dtype: int64"
      ]
     },
     "execution_count": 18,
     "metadata": {},
     "output_type": "execute_result"
    }
   ],
   "source": [
    "df['LUNG_CANCER'].value_counts()"
   ]
  },
  {
   "cell_type": "code",
   "execution_count": 19,
   "id": "00ef7e6b",
   "metadata": {},
   "outputs": [],
   "source": [
    "X=df.drop(['LUNG_CANCER'],axis='columns')\n",
    "y=df['LUNG_CANCER']"
   ]
  },
  {
   "cell_type": "code",
   "execution_count": 20,
   "id": "2e4bd0b3",
   "metadata": {},
   "outputs": [
    {
     "data": {
      "text/plain": [
       "309"
      ]
     },
     "execution_count": 20,
     "metadata": {},
     "output_type": "execute_result"
    }
   ],
   "source": [
    "len(X)"
   ]
  },
  {
   "cell_type": "code",
   "execution_count": 21,
   "id": "90970527",
   "metadata": {},
   "outputs": [
    {
     "data": {
      "text/plain": [
       "309"
      ]
     },
     "execution_count": 21,
     "metadata": {},
     "output_type": "execute_result"
    }
   ],
   "source": [
    "len(y)"
   ]
  },
  {
   "cell_type": "code",
   "execution_count": 22,
   "id": "cdd5550a",
   "metadata": {},
   "outputs": [],
   "source": [
    "from sklearn.model_selection import train_test_split\n",
    "X_train, X_test, y_train, y_test = train_test_split(X, y,test_size=0.2,random_state=5)"
   ]
  },
  {
   "cell_type": "code",
   "execution_count": 23,
   "id": "7c2c1aea",
   "metadata": {},
   "outputs": [
    {
     "data": {
      "text/plain": [
       "247"
      ]
     },
     "execution_count": 23,
     "metadata": {},
     "output_type": "execute_result"
    }
   ],
   "source": [
    "len(X_train)"
   ]
  },
  {
   "cell_type": "code",
   "execution_count": 24,
   "id": "8ee10b78",
   "metadata": {},
   "outputs": [
    {
     "data": {
      "text/plain": [
       "(247, 15)"
      ]
     },
     "execution_count": 24,
     "metadata": {},
     "output_type": "execute_result"
    }
   ],
   "source": [
    "X_train.shape"
   ]
  },
  {
   "cell_type": "code",
   "execution_count": 25,
   "id": "3375e2c5",
   "metadata": {},
   "outputs": [
    {
     "data": {
      "text/plain": [
       "(247,)"
      ]
     },
     "execution_count": 25,
     "metadata": {},
     "output_type": "execute_result"
    }
   ],
   "source": [
    "y_train.shape"
   ]
  },
  {
   "cell_type": "code",
   "execution_count": 26,
   "id": "f8654ff2",
   "metadata": {},
   "outputs": [],
   "source": [
    "from sklearn.preprocessing import StandardScaler\n",
    "sc= StandardScaler()\n",
    "X_train = sc.fit_transform(X_train)\n",
    "X_test = sc.fit_transform(X_test)"
   ]
  },
  {
   "cell_type": "code",
   "execution_count": 27,
   "id": "54b234ff",
   "metadata": {},
   "outputs": [
    {
     "data": {
      "text/plain": [
       "array([[-1.04557178, -1.90334439,  0.85280287,  0.88146379, -1.02045201,\n",
       "         1.06269015,  1.02045201,  0.69853547,  0.9486833 ,  0.90342486,\n",
       "        -1.09788758,  0.85990501,  0.73086352, -0.9258201 , -1.08012345],\n",
       "       [ 0.95641449,  0.03581958, -1.17260394,  0.88146379, -1.02045201,\n",
       "         1.06269015, -0.97995789,  0.69853547,  0.9486833 ,  0.90342486,\n",
       "         0.91084007,  0.85990501,  0.73086352, -0.9258201 ,  0.9258201 ],\n",
       "       [-1.04557178, -0.93376241,  0.85280287, -1.13447655,  0.97995789,\n",
       "        -0.94100807, -0.97995789,  0.69853547, -1.05409255, -1.10689892,\n",
       "        -1.09788758, -1.16291915, -1.3682445 , -0.9258201 , -1.08012345],\n",
       "       [-1.04557178,  0.88420382, -1.17260394,  0.88146379, -1.02045201,\n",
       "        -0.94100807,  1.02045201,  0.69853547,  0.9486833 ,  0.90342486,\n",
       "        -1.09788758,  0.85990501,  0.73086352, -0.9258201 ,  0.9258201 ],\n",
       "       [ 0.95641449, -0.32777367,  0.85280287, -1.13447655, -1.02045201,\n",
       "        -0.94100807,  1.02045201, -1.43156653,  0.9486833 ,  0.90342486,\n",
       "         0.91084007,  0.85990501, -1.3682445 , -0.9258201 ,  0.9258201 ]])"
      ]
     },
     "execution_count": 27,
     "metadata": {},
     "output_type": "execute_result"
    }
   ],
   "source": [
    "X_train[:5]"
   ]
  },
  {
   "cell_type": "code",
   "execution_count": 28,
   "id": "7ffa8249",
   "metadata": {},
   "outputs": [],
   "source": [
    "from sklearn.naive_bayes import GaussianNB\n",
    "from xgboost import XGBClassifier\n",
    "\n",
    "model_params = {\n",
    "             \n",
    "    \n",
    "    'random_forest': {\n",
    "        'model': RandomForestClassifier(),\n",
    "        'params' : {\n",
    "            'n_estimators': [1,5,10]\n",
    "        }\n",
    "    },\n",
    "    'logistic_regression' : {\n",
    "        'model': LogisticRegression(solver='liblinear',multi_class='auto'),\n",
    "        'params': {\n",
    "            'C': [1,5,10]\n",
    "        }\n",
    "    },\n",
    "    'naive_bayes_gaussian': {\n",
    "        'model': GaussianNB(),\n",
    "        'params': {}\n",
    "    },\n",
    "   \n",
    "    'decision_tree': {\n",
    "        'model': DecisionTreeClassifier(),\n",
    "        'params': {\n",
    "            'criterion': ['gini','entropy'],\n",
    "        }   \n",
    "    },\n",
    "       'XGB_Classifier':{\n",
    "        'model':XGBClassifier(),\n",
    "        'params':{\n",
    "            'base_score':[0.5]\n",
    "            \n",
    "        }\n",
    "    } \n",
    "        \n",
    "     \n",
    "}\n"
   ]
  },
  {
   "cell_type": "code",
   "execution_count": 29,
   "id": "79fda679",
   "metadata": {},
   "outputs": [
    {
     "data": {
      "text/html": [
       "<div>\n",
       "<style scoped>\n",
       "    .dataframe tbody tr th:only-of-type {\n",
       "        vertical-align: middle;\n",
       "    }\n",
       "\n",
       "    .dataframe tbody tr th {\n",
       "        vertical-align: top;\n",
       "    }\n",
       "\n",
       "    .dataframe thead th {\n",
       "        text-align: right;\n",
       "    }\n",
       "</style>\n",
       "<table border=\"1\" class=\"dataframe\">\n",
       "  <thead>\n",
       "    <tr style=\"text-align: right;\">\n",
       "      <th></th>\n",
       "      <th>model</th>\n",
       "      <th>best_score</th>\n",
       "      <th>best_params</th>\n",
       "    </tr>\n",
       "  </thead>\n",
       "  <tbody>\n",
       "    <tr>\n",
       "      <th>0</th>\n",
       "      <td>random_forest</td>\n",
       "      <td>0.925806</td>\n",
       "      <td>{'n_estimators': 10}</td>\n",
       "    </tr>\n",
       "    <tr>\n",
       "      <th>1</th>\n",
       "      <td>logistic_regression</td>\n",
       "      <td>0.925806</td>\n",
       "      <td>{'C': 10}</td>\n",
       "    </tr>\n",
       "    <tr>\n",
       "      <th>2</th>\n",
       "      <td>naive_bayes_gaussian</td>\n",
       "      <td>0.900000</td>\n",
       "      <td>{}</td>\n",
       "    </tr>\n",
       "    <tr>\n",
       "      <th>3</th>\n",
       "      <td>decision_tree</td>\n",
       "      <td>0.887097</td>\n",
       "      <td>{'criterion': 'gini'}</td>\n",
       "    </tr>\n",
       "    <tr>\n",
       "      <th>4</th>\n",
       "      <td>XGB_Classifier</td>\n",
       "      <td>0.900000</td>\n",
       "      <td>{'base_score': 0.5}</td>\n",
       "    </tr>\n",
       "  </tbody>\n",
       "</table>\n",
       "</div>"
      ],
      "text/plain": [
       "                  model  best_score            best_params\n",
       "0         random_forest    0.925806   {'n_estimators': 10}\n",
       "1   logistic_regression    0.925806              {'C': 10}\n",
       "2  naive_bayes_gaussian    0.900000                     {}\n",
       "3         decision_tree    0.887097  {'criterion': 'gini'}\n",
       "4        XGB_Classifier    0.900000    {'base_score': 0.5}"
      ]
     },
     "execution_count": 29,
     "metadata": {},
     "output_type": "execute_result"
    }
   ],
   "source": [
    "from sklearn.model_selection import GridSearchCV\n",
    "scores = []\n",
    "cv = ShuffleSplit(n_splits=5, test_size=0.2, random_state=0)\n",
    "for model_name, mp in model_params.items():\n",
    "    clf =  GridSearchCV(mp['model'], mp['params'], cv=cv, return_train_score=False)\n",
    "    clf.fit(X,y)\n",
    "    scores.append({\n",
    "        'model': model_name,\n",
    "        'best_score': clf.best_score_,\n",
    "        'best_params': clf.best_params_\n",
    "    })\n",
    "    \n",
    "df = pd.DataFrame(scores,columns=['model','best_score','best_params'])\n",
    "df"
   ]
  },
  {
   "cell_type": "code",
   "execution_count": 30,
   "id": "69e54e64",
   "metadata": {},
   "outputs": [
    {
     "data": {
      "text/html": [
       "<style>#sk-container-id-1 {color: black;background-color: white;}#sk-container-id-1 pre{padding: 0;}#sk-container-id-1 div.sk-toggleable {background-color: white;}#sk-container-id-1 label.sk-toggleable__label {cursor: pointer;display: block;width: 100%;margin-bottom: 0;padding: 0.3em;box-sizing: border-box;text-align: center;}#sk-container-id-1 label.sk-toggleable__label-arrow:before {content: \"▸\";float: left;margin-right: 0.25em;color: #696969;}#sk-container-id-1 label.sk-toggleable__label-arrow:hover:before {color: black;}#sk-container-id-1 div.sk-estimator:hover label.sk-toggleable__label-arrow:before {color: black;}#sk-container-id-1 div.sk-toggleable__content {max-height: 0;max-width: 0;overflow: hidden;text-align: left;background-color: #f0f8ff;}#sk-container-id-1 div.sk-toggleable__content pre {margin: 0.2em;color: black;border-radius: 0.25em;background-color: #f0f8ff;}#sk-container-id-1 input.sk-toggleable__control:checked~div.sk-toggleable__content {max-height: 200px;max-width: 100%;overflow: auto;}#sk-container-id-1 input.sk-toggleable__control:checked~label.sk-toggleable__label-arrow:before {content: \"▾\";}#sk-container-id-1 div.sk-estimator input.sk-toggleable__control:checked~label.sk-toggleable__label {background-color: #d4ebff;}#sk-container-id-1 div.sk-label input.sk-toggleable__control:checked~label.sk-toggleable__label {background-color: #d4ebff;}#sk-container-id-1 input.sk-hidden--visually {border: 0;clip: rect(1px 1px 1px 1px);clip: rect(1px, 1px, 1px, 1px);height: 1px;margin: -1px;overflow: hidden;padding: 0;position: absolute;width: 1px;}#sk-container-id-1 div.sk-estimator {font-family: monospace;background-color: #f0f8ff;border: 1px dotted black;border-radius: 0.25em;box-sizing: border-box;margin-bottom: 0.5em;}#sk-container-id-1 div.sk-estimator:hover {background-color: #d4ebff;}#sk-container-id-1 div.sk-parallel-item::after {content: \"\";width: 100%;border-bottom: 1px solid gray;flex-grow: 1;}#sk-container-id-1 div.sk-label:hover label.sk-toggleable__label {background-color: #d4ebff;}#sk-container-id-1 div.sk-serial::before {content: \"\";position: absolute;border-left: 1px solid gray;box-sizing: border-box;top: 0;bottom: 0;left: 50%;z-index: 0;}#sk-container-id-1 div.sk-serial {display: flex;flex-direction: column;align-items: center;background-color: white;padding-right: 0.2em;padding-left: 0.2em;position: relative;}#sk-container-id-1 div.sk-item {position: relative;z-index: 1;}#sk-container-id-1 div.sk-parallel {display: flex;align-items: stretch;justify-content: center;background-color: white;position: relative;}#sk-container-id-1 div.sk-item::before, #sk-container-id-1 div.sk-parallel-item::before {content: \"\";position: absolute;border-left: 1px solid gray;box-sizing: border-box;top: 0;bottom: 0;left: 50%;z-index: -1;}#sk-container-id-1 div.sk-parallel-item {display: flex;flex-direction: column;z-index: 1;position: relative;background-color: white;}#sk-container-id-1 div.sk-parallel-item:first-child::after {align-self: flex-end;width: 50%;}#sk-container-id-1 div.sk-parallel-item:last-child::after {align-self: flex-start;width: 50%;}#sk-container-id-1 div.sk-parallel-item:only-child::after {width: 0;}#sk-container-id-1 div.sk-dashed-wrapped {border: 1px dashed gray;margin: 0 0.4em 0.5em 0.4em;box-sizing: border-box;padding-bottom: 0.4em;background-color: white;}#sk-container-id-1 div.sk-label label {font-family: monospace;font-weight: bold;display: inline-block;line-height: 1.2em;}#sk-container-id-1 div.sk-label-container {text-align: center;}#sk-container-id-1 div.sk-container {/* jupyter's `normalize.less` sets `[hidden] { display: none; }` but bootstrap.min.css set `[hidden] { display: none !important; }` so we also need the `!important` here to be able to override the default hidden behavior on the sphinx rendered scikit-learn.org. See: https://github.com/scikit-learn/scikit-learn/issues/21755 */display: inline-block !important;position: relative;}#sk-container-id-1 div.sk-text-repr-fallback {display: none;}</style><div id=\"sk-container-id-1\" class=\"sk-top-container\"><div class=\"sk-text-repr-fallback\"><pre>LogisticRegression(C=0.05, multi_class=&#x27;ovr&#x27;, random_state=0,\n",
       "                   solver=&#x27;liblinear&#x27;)</pre><b>In a Jupyter environment, please rerun this cell to show the HTML representation or trust the notebook. <br />On GitHub, the HTML representation is unable to render, please try loading this page with nbviewer.org.</b></div><div class=\"sk-container\" hidden><div class=\"sk-item\"><div class=\"sk-estimator sk-toggleable\"><input class=\"sk-toggleable__control sk-hidden--visually\" id=\"sk-estimator-id-1\" type=\"checkbox\" checked><label for=\"sk-estimator-id-1\" class=\"sk-toggleable__label sk-toggleable__label-arrow\">LogisticRegression</label><div class=\"sk-toggleable__content\"><pre>LogisticRegression(C=0.05, multi_class=&#x27;ovr&#x27;, random_state=0,\n",
       "                   solver=&#x27;liblinear&#x27;)</pre></div></div></div></div></div>"
      ],
      "text/plain": [
       "LogisticRegression(C=0.05, multi_class='ovr', random_state=0,\n",
       "                   solver='liblinear')"
      ]
     },
     "execution_count": 30,
     "metadata": {},
     "output_type": "execute_result"
    }
   ],
   "source": [
    "model = LogisticRegression(solver='liblinear', C=0.05, multi_class='ovr',\n",
    "                           random_state=0)\n",
    "model.fit(X_train, y_train)\n"
   ]
  },
  {
   "cell_type": "code",
   "execution_count": 31,
   "id": "11fa78c4",
   "metadata": {},
   "outputs": [
    {
     "data": {
      "text/plain": [
       "0.9354838709677419"
      ]
     },
     "execution_count": 31,
     "metadata": {},
     "output_type": "execute_result"
    }
   ],
   "source": [
    "model.score( X_test, y_test)"
   ]
  },
  {
   "cell_type": "code",
   "execution_count": 32,
   "id": "23e50c99",
   "metadata": {},
   "outputs": [],
   "source": [
    "y_predicted = model.predict(X_test)"
   ]
  },
  {
   "cell_type": "code",
   "execution_count": 33,
   "id": "62e479ac",
   "metadata": {},
   "outputs": [
    {
     "data": {
      "text/plain": [
       "array([1, 1, 1, 1, 0], dtype=int64)"
      ]
     },
     "execution_count": 33,
     "metadata": {},
     "output_type": "execute_result"
    }
   ],
   "source": [
    "y_predicted [:5]"
   ]
  },
  {
   "cell_type": "code",
   "execution_count": 34,
   "id": "4fd734c7",
   "metadata": {},
   "outputs": [
    {
     "data": {
      "text/plain": [
       "274    1\n",
       "308    1\n",
       "307    1\n",
       "48     1\n",
       "281    0\n",
       "Name: LUNG_CANCER, dtype: int64"
      ]
     },
     "execution_count": 34,
     "metadata": {},
     "output_type": "execute_result"
    }
   ],
   "source": [
    "y_test[:5]"
   ]
  },
  {
   "cell_type": "code",
   "execution_count": 35,
   "id": "f29ab90d",
   "metadata": {},
   "outputs": [
    {
     "name": "stdout",
     "output_type": "stream",
     "text": [
      "              precision    recall  f1-score   support\n",
      "\n",
      "           0       0.67      0.40      0.50         5\n",
      "           1       0.95      0.98      0.97        57\n",
      "\n",
      "    accuracy                           0.94        62\n",
      "   macro avg       0.81      0.69      0.73        62\n",
      "weighted avg       0.93      0.94      0.93        62\n",
      "\n"
     ]
    }
   ],
   "source": [
    "from sklearn.metrics import confusion_matrix , classification_report\n",
    "\n",
    "print(classification_report(y_test,y_predicted))"
   ]
  },
  {
   "cell_type": "code",
   "execution_count": 36,
   "id": "c3d20205",
   "metadata": {},
   "outputs": [
    {
     "data": {
      "text/plain": [
       "array([[ 2,  3],\n",
       "       [ 1, 56]], dtype=int64)"
      ]
     },
     "execution_count": 36,
     "metadata": {},
     "output_type": "execute_result"
    }
   ],
   "source": [
    "y_predicted = model.predict(X_test)\n",
    "from sklearn.metrics import confusion_matrix\n",
    "cm = confusion_matrix(y_test, y_predicted)\n",
    "cm"
   ]
  },
  {
   "cell_type": "code",
   "execution_count": 37,
   "id": "ea4360c1",
   "metadata": {},
   "outputs": [
    {
     "data": {
      "text/plain": [
       "Text(69.0, 0.5, 'Truth')"
      ]
     },
     "execution_count": 37,
     "metadata": {},
     "output_type": "execute_result"
    },
    {
     "data": {
      "image/png": "[encoded data removed]",
      "text/plain": [
       "<Figure size 720x504 with 2 Axes>"
      ]
     },
     "metadata": {
      "needs_background": "light"
     },
     "output_type": "display_data"
    }
   ],
   "source": [
    "import seaborn as sn\n",
    "plt.figure(figsize = (10,7))\n",
    "sn.heatmap(cm, annot=True)\n",
    "plt.xlabel('Predicted')\n",
    "plt.ylabel('Truth')"
   ]
  },
  {
   "cell_type": "code",
   "execution_count": 38,
   "id": "63790e8e",
   "metadata": {},
   "outputs": [
    {
     "name": "stdout",
     "output_type": "stream",
     "text": [
      "<function mean_squared_error at 0x0000024362C88310>: 0.06451612903225806\n"
     ]
    }
   ],
   "source": [
    "from sklearn.metrics import mean_squared_error\n",
    "mse = mean_squared_error(y_test,y_predicted)\n",
    "print(f'{mean_squared_error}: {mse}')"
   ]
  },
  {
   "cell_type": "code",
   "execution_count": 39,
   "id": "3f912c5e",
   "metadata": {},
   "outputs": [
    {
     "data": {
      "text/plain": [
       "array([1.31992042])"
      ]
     },
     "execution_count": 39,
     "metadata": {},
     "output_type": "execute_result"
    }
   ],
   "source": [
    "model.intercept_"
   ]
  },
  {
   "cell_type": "markdown",
   "id": "6c6de458",
   "metadata": {},
   "source": [
    "# Deep learing test"
   ]
  },
  {
   "cell_type": "code",
   "execution_count": 40,
   "id": "c06d1614",
   "metadata": {},
   "outputs": [
    {
     "name": "stdout",
     "output_type": "stream",
     "text": [
      "Epoch 1/100\n",
      "31/31 [==============================] - 1s 1ms/step - loss: 0.5837 - accuracy: 0.7490\n",
      "Epoch 2/100\n",
      "31/31 [==============================] - 0s 915us/step - loss: 0.5556 - accuracy: 0.7652\n",
      "Epoch 3/100\n",
      "31/31 [==============================] - 0s 846us/step - loss: 0.6019 - accuracy: 0.7733\n",
      "Epoch 4/100\n",
      "31/31 [==============================] - 0s 884us/step - loss: 0.5252 - accuracy: 0.7814\n",
      "Epoch 5/100\n",
      "31/31 [==============================] - 0s 833us/step - loss: 0.5011 - accuracy: 0.8097\n",
      "Epoch 6/100\n",
      "31/31 [==============================] - 0s 871us/step - loss: 0.5013 - accuracy: 0.8138\n",
      "Epoch 7/100\n",
      "31/31 [==============================] - 0s 969us/step - loss: 0.4759 - accuracy: 0.8300\n",
      "Epoch 8/100\n",
      "31/31 [==============================] - 0s 922us/step - loss: 0.4238 - accuracy: 0.8259\n",
      "Epoch 9/100\n",
      "31/31 [==============================] - 0s 816us/step - loss: 0.4019 - accuracy: 0.8178\n",
      "Epoch 10/100\n",
      "31/31 [==============================] - 0s 944us/step - loss: 0.4388 - accuracy: 0.8300\n",
      "Epoch 11/100\n",
      "31/31 [==============================] - 0s 923us/step - loss: 0.3999 - accuracy: 0.8543\n",
      "Epoch 12/100\n",
      "31/31 [==============================] - 0s 927us/step - loss: 0.4216 - accuracy: 0.8462\n",
      "Epoch 13/100\n",
      "31/31 [==============================] - 0s 892us/step - loss: 0.3602 - accuracy: 0.8583\n",
      "Epoch 14/100\n",
      "31/31 [==============================] - 0s 861us/step - loss: 0.4169 - accuracy: 0.8340\n",
      "Epoch 15/100\n",
      "31/31 [==============================] - 0s 900us/step - loss: 0.3434 - accuracy: 0.8502\n",
      "Epoch 16/100\n",
      "31/31 [==============================] - 0s 874us/step - loss: 0.3659 - accuracy: 0.8502\n",
      "Epoch 17/100\n",
      "31/31 [==============================] - 0s 933us/step - loss: 0.3635 - accuracy: 0.8340\n",
      "Epoch 18/100\n",
      "31/31 [==============================] - 0s 970us/step - loss: 0.3318 - accuracy: 0.8623\n",
      "Epoch 19/100\n",
      "31/31 [==============================] - 0s 835us/step - loss: 0.3521 - accuracy: 0.8704\n",
      "Epoch 20/100\n",
      "31/31 [==============================] - 0s 902us/step - loss: 0.3755 - accuracy: 0.8543\n",
      "Epoch 21/100\n",
      "31/31 [==============================] - 0s 877us/step - loss: 0.3357 - accuracy: 0.8664\n",
      "Epoch 22/100\n",
      "31/31 [==============================] - 0s 1ms/step - loss: 0.3512 - accuracy: 0.8583\n",
      "Epoch 23/100\n",
      "31/31 [==============================] - 0s 804us/step - loss: 0.3117 - accuracy: 0.8583\n",
      "Epoch 24/100\n",
      "31/31 [==============================] - 0s 1ms/step - loss: 0.3138 - accuracy: 0.8502\n",
      "Epoch 25/100\n",
      "31/31 [==============================] - 0s 1ms/step - loss: 0.3064 - accuracy: 0.8664\n",
      "Epoch 26/100\n",
      "31/31 [==============================] - 0s 900us/step - loss: 0.3194 - accuracy: 0.8623\n",
      "Epoch 27/100\n",
      "31/31 [==============================] - 0s 833us/step - loss: 0.3367 - accuracy: 0.8543\n",
      "Epoch 28/100\n",
      "31/31 [==============================] - 0s 978us/step - loss: 0.3013 - accuracy: 0.8664\n",
      "Epoch 29/100\n",
      "31/31 [==============================] - 0s 1ms/step - loss: 0.3352 - accuracy: 0.8664\n",
      "Epoch 30/100\n",
      "31/31 [==============================] - 0s 970us/step - loss: 0.3241 - accuracy: 0.8623\n",
      "Epoch 31/100\n",
      "31/31 [==============================] - 0s 931us/step - loss: 0.2697 - accuracy: 0.8623\n",
      "Epoch 32/100\n",
      "31/31 [==============================] - 0s 840us/step - loss: 0.2881 - accuracy: 0.8704\n",
      "Epoch 33/100\n",
      "31/31 [==============================] - 0s 833us/step - loss: 0.2880 - accuracy: 0.8704\n",
      "Epoch 34/100\n",
      "31/31 [==============================] - 0s 907us/step - loss: 0.2594 - accuracy: 0.8704\n",
      "Epoch 35/100\n",
      "31/31 [==============================] - 0s 958us/step - loss: 0.3133 - accuracy: 0.8785\n",
      "Epoch 36/100\n",
      "31/31 [==============================] - 0s 903us/step - loss: 0.2860 - accuracy: 0.8664\n",
      "Epoch 37/100\n",
      "31/31 [==============================] - 0s 867us/step - loss: 0.2831 - accuracy: 0.8826\n",
      "Epoch 38/100\n",
      "31/31 [==============================] - 0s 839us/step - loss: 0.2754 - accuracy: 0.8623\n",
      "Epoch 39/100\n",
      "31/31 [==============================] - 0s 1ms/step - loss: 0.2656 - accuracy: 0.8704\n",
      "Epoch 40/100\n",
      "31/31 [==============================] - 0s 1ms/step - loss: 0.2762 - accuracy: 0.8583\n",
      "Epoch 41/100\n",
      "31/31 [==============================] - 0s 881us/step - loss: 0.2625 - accuracy: 0.8623\n",
      "Epoch 42/100\n",
      "31/31 [==============================] - 0s 866us/step - loss: 0.2608 - accuracy: 0.8866\n",
      "Epoch 43/100\n",
      "31/31 [==============================] - 0s 939us/step - loss: 0.2476 - accuracy: 0.8664\n",
      "Epoch 44/100\n",
      "31/31 [==============================] - 0s 833us/step - loss: 0.2445 - accuracy: 0.8623\n",
      "Epoch 45/100\n",
      "31/31 [==============================] - 0s 833us/step - loss: 0.2501 - accuracy: 0.8664\n",
      "Epoch 46/100\n",
      "31/31 [==============================] - 0s 926us/step - loss: 0.2485 - accuracy: 0.8664\n",
      "Epoch 47/100\n",
      "31/31 [==============================] - 0s 835us/step - loss: 0.2701 - accuracy: 0.8623\n",
      "Epoch 48/100\n",
      "31/31 [==============================] - 0s 800us/step - loss: 0.2427 - accuracy: 0.8907\n",
      "Epoch 49/100\n",
      "31/31 [==============================] - 0s 767us/step - loss: 0.2459 - accuracy: 0.8704\n",
      "Epoch 50/100\n",
      "31/31 [==============================] - 0s 858us/step - loss: 0.2337 - accuracy: 0.8704\n",
      "Epoch 51/100\n",
      "31/31 [==============================] - 0s 926us/step - loss: 0.2640 - accuracy: 0.8664\n",
      "Epoch 52/100\n",
      "31/31 [==============================] - 0s 868us/step - loss: 0.2306 - accuracy: 0.8623\n",
      "Epoch 53/100\n",
      "31/31 [==============================] - 0s 834us/step - loss: 0.2209 - accuracy: 0.8704\n",
      "Epoch 54/100\n",
      "31/31 [==============================] - 0s 930us/step - loss: 0.2325 - accuracy: 0.8826\n",
      "Epoch 55/100\n",
      "31/31 [==============================] - 0s 867us/step - loss: 0.2283 - accuracy: 0.8785\n",
      "Epoch 56/100\n",
      "31/31 [==============================] - 0s 882us/step - loss: 0.2061 - accuracy: 0.8907\n",
      "Epoch 57/100\n",
      "31/31 [==============================] - 0s 830us/step - loss: 0.2126 - accuracy: 0.8745\n",
      "Epoch 58/100\n",
      "31/31 [==============================] - 0s 1ms/step - loss: 0.2137 - accuracy: 0.8785\n",
      "Epoch 59/100\n",
      "31/31 [==============================] - 0s 838us/step - loss: 0.2075 - accuracy: 0.8745\n",
      "Epoch 60/100\n",
      "31/31 [==============================] - 0s 767us/step - loss: 0.1960 - accuracy: 0.8785\n",
      "Epoch 61/100\n",
      "31/31 [==============================] - 0s 872us/step - loss: 0.2103 - accuracy: 0.8866\n",
      "Epoch 62/100\n",
      "31/31 [==============================] - 0s 794us/step - loss: 0.2106 - accuracy: 0.8704\n",
      "Epoch 63/100\n",
      "31/31 [==============================] - 0s 937us/step - loss: 0.2160 - accuracy: 0.8664\n",
      "Epoch 64/100\n",
      "31/31 [==============================] - 0s 841us/step - loss: 0.2364 - accuracy: 0.8826\n",
      "Epoch 65/100\n",
      "31/31 [==============================] - 0s 919us/step - loss: 0.2166 - accuracy: 0.8947\n",
      "Epoch 66/100\n",
      "31/31 [==============================] - 0s 833us/step - loss: 0.2144 - accuracy: 0.8826\n",
      "Epoch 67/100\n",
      "31/31 [==============================] - 0s 782us/step - loss: 0.2021 - accuracy: 0.8785\n",
      "Epoch 68/100\n",
      "31/31 [==============================] - 0s 839us/step - loss: 0.1954 - accuracy: 0.8664\n",
      "Epoch 69/100\n",
      "31/31 [==============================] - 0s 791us/step - loss: 0.2305 - accuracy: 0.8866\n",
      "Epoch 70/100\n",
      "31/31 [==============================] - 0s 847us/step - loss: 0.2195 - accuracy: 0.8947\n",
      "Epoch 71/100\n",
      "31/31 [==============================] - 0s 867us/step - loss: 0.2107 - accuracy: 0.8704\n",
      "Epoch 72/100\n",
      "31/31 [==============================] - 0s 852us/step - loss: 0.2142 - accuracy: 0.8785\n",
      "Epoch 73/100\n",
      "31/31 [==============================] - 0s 767us/step - loss: 0.2083 - accuracy: 0.8947\n",
      "Epoch 74/100\n",
      "31/31 [==============================] - 0s 800us/step - loss: 0.2098 - accuracy: 0.8583\n",
      "Epoch 75/100\n",
      "31/31 [==============================] - 0s 825us/step - loss: 0.2085 - accuracy: 0.8704\n",
      "Epoch 76/100\n",
      "31/31 [==============================] - 0s 825us/step - loss: 0.1963 - accuracy: 0.8785\n",
      "Epoch 77/100\n",
      "31/31 [==============================] - 0s 875us/step - loss: 0.1994 - accuracy: 0.8826\n",
      "Epoch 78/100\n",
      "31/31 [==============================] - 0s 802us/step - loss: 0.2090 - accuracy: 0.8826\n",
      "Epoch 79/100\n",
      "31/31 [==============================] - 0s 822us/step - loss: 0.1702 - accuracy: 0.8785\n",
      "Epoch 80/100\n",
      "31/31 [==============================] - 0s 819us/step - loss: 0.2417 - accuracy: 0.8866\n",
      "Epoch 81/100\n",
      "31/31 [==============================] - 0s 800us/step - loss: 0.2253 - accuracy: 0.8421\n",
      "Epoch 82/100\n",
      "31/31 [==============================] - 0s 867us/step - loss: 0.2079 - accuracy: 0.8947\n",
      "Epoch 83/100\n",
      "31/31 [==============================] - 0s 880us/step - loss: 0.1809 - accuracy: 0.8907\n",
      "Epoch 84/100\n",
      "31/31 [==============================] - 0s 793us/step - loss: 0.2009 - accuracy: 0.8907\n",
      "Epoch 85/100\n",
      "31/31 [==============================] - 0s 782us/step - loss: 0.1911 - accuracy: 0.8947\n",
      "Epoch 86/100\n",
      "31/31 [==============================] - 0s 738us/step - loss: 0.1999 - accuracy: 0.8745\n",
      "Epoch 87/100\n",
      "31/31 [==============================] - 0s 883us/step - loss: 0.1859 - accuracy: 0.8866\n",
      "Epoch 88/100\n",
      "31/31 [==============================] - 0s 811us/step - loss: 0.1925 - accuracy: 0.8785\n",
      "Epoch 89/100\n",
      "31/31 [==============================] - 0s 849us/step - loss: 0.1761 - accuracy: 0.8947\n",
      "Epoch 90/100\n",
      "31/31 [==============================] - 0s 828us/step - loss: 0.2201 - accuracy: 0.8623\n",
      "Epoch 91/100\n",
      "31/31 [==============================] - 0s 837us/step - loss: 0.1985 - accuracy: 0.8826\n",
      "Epoch 92/100\n",
      "31/31 [==============================] - 0s 838us/step - loss: 0.1687 - accuracy: 0.8866\n",
      "Epoch 93/100\n",
      "31/31 [==============================] - 0s 800us/step - loss: 0.2107 - accuracy: 0.8785\n",
      "Epoch 94/100\n",
      "31/31 [==============================] - 0s 807us/step - loss: 0.1938 - accuracy: 0.8826\n",
      "Epoch 95/100\n",
      "31/31 [==============================] - 0s 830us/step - loss: 0.1783 - accuracy: 0.9069\n",
      "Epoch 96/100\n",
      "31/31 [==============================] - 0s 910us/step - loss: 0.1974 - accuracy: 0.8866\n",
      "Epoch 97/100\n",
      "31/31 [==============================] - 0s 827us/step - loss: 0.1874 - accuracy: 0.8947\n",
      "Epoch 98/100\n",
      "31/31 [==============================] - 0s 867us/step - loss: 0.2029 - accuracy: 0.8826\n",
      "Epoch 99/100\n",
      "31/31 [==============================] - 0s 800us/step - loss: 0.1697 - accuracy: 0.9069\n",
      "Epoch 100/100\n",
      "31/31 [==============================] - 0s 772us/step - loss: 0.1996 - accuracy: 0.8785\n"
     ]
    },
    {
     "data": {
      "text/plain": [
       "<keras.callbacks.History at 0x24371c4e730>"
      ]
     },
     "execution_count": 40,
     "metadata": {},
     "output_type": "execute_result"
    }
   ],
   "source": [
    "mode = keras.Sequential([\n",
    "    keras.layers.Dense(15, input_dim=15, activation='relu'),\n",
    "    keras.layers.Dropout(0.5),#Dropout Layer\n",
    "    keras.layers.Dense(7, activation='relu'),\n",
    "    keras.layers.Dropout(0.5),#Dropout Layer\n",
    "        keras.layers.Dense(1, activation='sigmoid')\n",
    "])\n",
    "\n",
    "mode.compile(loss='binary_crossentropy', optimizer='adam', metrics=['accuracy'])\n",
    "\n",
    "mode.fit(X_train, y_train, epochs=100, batch_size=8)"
   ]
  },
  {
   "cell_type": "code",
   "execution_count": 41,
   "id": "b92f009f",
   "metadata": {},
   "outputs": [
    {
     "name": "stdout",
     "output_type": "stream",
     "text": [
      "2/2 [==============================] - 0s 16ms/step - loss: 0.1458 - accuracy: 0.9194\n"
     ]
    },
    {
     "data": {
      "text/plain": [
       "[0.14580276608467102, 0.9193548560142517]"
      ]
     },
     "execution_count": 41,
     "metadata": {},
     "output_type": "execute_result"
    }
   ],
   "source": [
    "mode.evaluate(X_test, y_test)"
   ]
  },
  {
   "cell_type": "code",
   "execution_count": 42,
   "id": "a2478b71",
   "metadata": {},
   "outputs": [
    {
     "name": "stdout",
     "output_type": "stream",
     "text": [
      "2/2 [==============================] - 0s 0s/step\n"
     ]
    }
   ],
   "source": [
    "ypre=mode.predict(X_test).reshape(-1)"
   ]
  },
  {
   "cell_type": "code",
   "execution_count": 43,
   "id": "780a9093",
   "metadata": {},
   "outputs": [
    {
     "data": {
      "text/plain": [
       "array([0.9981251 , 0.9994751 , 0.99995905, 1.        , 0.7985516 ,\n",
       "       0.5426204 , 0.9219231 , 0.9899258 , 0.9999943 , 0.9999973 ,\n",
       "       0.8997866 , 0.99998045, 0.99999976, 0.8938605 , 0.93070036,\n",
       "       0.98608285, 1.        , 0.9017404 , 0.9999891 , 1.        ,\n",
       "       0.9980121 , 0.90461814, 0.9247224 , 0.9999898 , 0.99953425,\n",
       "       0.99984914, 0.99995655, 0.9999997 , 0.99997747, 0.99926746,\n",
       "       1.        , 0.9966603 , 0.99999833, 0.9999965 , 0.82237047,\n",
       "       0.99951774, 0.9991079 , 0.58585936, 0.9999976 , 0.9999991 ,\n",
       "       0.99999845, 0.90847844, 0.9977479 , 1.        , 0.99983746,\n",
       "       0.9999998 , 0.9999571 , 0.9999976 , 1.        , 0.9956126 ,\n",
       "       0.9999341 , 1.        , 0.9885743 , 0.99734676, 0.9999938 ,\n",
       "       0.9991681 , 0.9638699 , 0.9999501 , 0.99934196, 0.96866393,\n",
       "       1.        , 0.9998295 ], dtype=float32)"
      ]
     },
     "execution_count": 43,
     "metadata": {},
     "output_type": "execute_result"
    }
   ],
   "source": [
    "ypre"
   ]
  },
  {
   "cell_type": "code",
   "execution_count": 44,
   "id": "47b29a1d",
   "metadata": {},
   "outputs": [],
   "source": [
    "ypre=np.round(ypre)"
   ]
  },
  {
   "cell_type": "code",
   "execution_count": 45,
   "id": "6bb4892c",
   "metadata": {},
   "outputs": [
    {
     "data": {
      "text/plain": [
       "array([1., 1., 1., 1., 1., 1., 1., 1., 1., 1., 1., 1., 1., 1., 1., 1., 1.,\n",
       "       1., 1., 1., 1., 1., 1., 1., 1., 1., 1., 1., 1., 1., 1., 1., 1., 1.,\n",
       "       1., 1., 1., 1., 1., 1., 1., 1., 1., 1., 1., 1., 1., 1., 1., 1., 1.,\n",
       "       1., 1., 1., 1., 1., 1., 1., 1., 1., 1., 1.], dtype=float32)"
      ]
     },
     "execution_count": 45,
     "metadata": {},
     "output_type": "execute_result"
    }
   ],
   "source": [
    "ypre"
   ]
  },
  {
   "cell_type": "code",
   "execution_count": 46,
   "id": "2c515de9",
   "metadata": {},
   "outputs": [
    {
     "data": {
      "text/plain": [
       "274    1\n",
       "308    1\n",
       "307    1\n",
       "48     1\n",
       "281    0\n",
       "49     0\n",
       "33     1\n",
       "197    1\n",
       "267    1\n",
       "53     1\n",
       "Name: LUNG_CANCER, dtype: int64"
      ]
     },
     "execution_count": 46,
     "metadata": {},
     "output_type": "execute_result"
    }
   ],
   "source": [
    "y_test[:10]"
   ]
  },
  {
   "cell_type": "code",
   "execution_count": 63,
   "id": "05ffa183",
   "metadata": {},
   "outputs": [
    {
     "name": "stdout",
     "output_type": "stream",
     "text": [
      "              precision    recall  f1-score   support\n",
      "\n",
      "           0       0.00      0.00      0.00         5\n",
      "           1       0.92      1.00      0.96        57\n",
      "\n",
      "    accuracy                           0.92        62\n",
      "   macro avg       0.46      0.50      0.48        62\n",
      "weighted avg       0.85      0.92      0.88        62\n",
      "\n"
     ]
    },
    {
     "name": "stderr",
     "output_type": "stream",
     "text": [
      "C:\\Users\\owner\\AppData\\Roaming\\Python\\Python39\\site-packages\\sklearn\\metrics\\_classification.py:1334: UndefinedMetricWarning: Precision and F-score are ill-defined and being set to 0.0 in labels with no predicted samples. Use `zero_division` parameter to control this behavior.\n",
      "  _warn_prf(average, modifier, msg_start, len(result))\n",
      "C:\\Users\\owner\\AppData\\Roaming\\Python\\Python39\\site-packages\\sklearn\\metrics\\_classification.py:1334: UndefinedMetricWarning: Precision and F-score are ill-defined and being set to 0.0 in labels with no predicted samples. Use `zero_division` parameter to control this behavior.\n",
      "  _warn_prf(average, modifier, msg_start, len(result))\n",
      "C:\\Users\\owner\\AppData\\Roaming\\Python\\Python39\\site-packages\\sklearn\\metrics\\_classification.py:1334: UndefinedMetricWarning: Precision and F-score are ill-defined and being set to 0.0 in labels with no predicted samples. Use `zero_division` parameter to control this behavior.\n",
      "  _warn_prf(average, modifier, msg_start, len(result))\n"
     ]
    }
   ],
   "source": [
    "print(classification_report(y_test, ypre))"
   ]
  },
  {
   "cell_type": "code",
   "execution_count": 64,
   "id": "be571e0b",
   "metadata": {},
   "outputs": [
    {
     "data": {
      "text/plain": [
       "Text(69.0, 0.5, 'Truth')"
      ]
     },
     "execution_count": 64,
     "metadata": {},
     "output_type": "execute_result"
    },
    {
     "data": {
      "image/png": "[encoded data removed]",
      "text/plain": [
       "<Figure size 720x504 with 2 Axes>"
      ]
     },
     "metadata": {
      "needs_background": "light"
     },
     "output_type": "display_data"
    }
   ],
   "source": [
    "from sklearn.metrics import confusion_matrix\n",
    "cm1 = confusion_matrix(y_test,ypre)\n",
    "plt.figure(figsize = (10,7))\n",
    "sns.heatmap(cm1, annot=True)\n",
    "plt.xlabel('Predicted')\n",
    "plt.ylabel('Truth')"
   ]
  },
  {
   "cell_type": "code",
   "execution_count": null,
   "id": "5be5fd90",
   "metadata": {},
   "outputs": [],
   "source": []
  }
 ],
 "metadata": {
  "kernelspec": {
   "display_name": "Python 3 (ipykernel)",
   "language": "python",
   "name": "python3"
  },
  "language_info": {
   "codemirror_mode": {
    "name": "ipython",
    "version": 3
   },
   "file_extension": ".py",
   "mimetype": "text/x-python",
   "name": "python",
   "nbconvert_exporter": "python",
   "pygments_lexer": "ipython3",
   "version": "3.9.12"
  }
 },
 "nbformat": 4,
 "nbformat_minor": 5
}
